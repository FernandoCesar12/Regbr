{
 "cells": [
  {
   "cell_type": "markdown",
   "metadata": {
    "id": "fmBeU5V2W1z2"
   },
   "source": [
    "# Pegando os links das páginas redirecionadas"
   ]
  },
  {
   "cell_type": "code",
   "execution_count": 1,
   "metadata": {
    "id": "Ncf_I0lWWFlp"
   },
   "outputs": [],
   "source": [
    "import requests # requisições web\n",
    "import re\n",
    "from bs4 import BeautifulSoup\n",
    "\n",
    "pattern = r\"\\/anp\\/resolucao-n-\\d+-\\d+\"\n",
    "\n",
    "Link = []\n",
    "i  = 1\n",
    "while i <= 90:\n",
    "  try:\n",
    "    url = 'https://atosoficiais.com.br/anp?q=&types=24&types=156&page='+str(i)\n",
    "\n",
    "    header = {'User-Agent': \"'Mozilla/5.0'\"}\n",
    "    html = requests.get(url, headers = header)\n",
    "    bs_obj = BeautifulSoup(html.text,\"lxml\")\n",
    "    posicao = bs_obj.find_all(\"div\", {\"class\": \"listagem-leis\"})\n",
    "    hrefs = ' '.join([str(elem) for elem in posicao]).split('\\n')\n",
    "\n",
    "    for href in hrefs:\n",
    "      if '<a class=\"btn btn-lei-lista\"' in str(href):\n",
    "        result = str(href).split('href=\"')[1].split('\">')[0]\n",
    "        Link.append(result)\n",
    "\n",
    "    i = i+1\n",
    "\n",
    "  except:\n",
    "    print('Url error' + ' ' + url)\n",
    "\n",
    "# Finalizando a formatação as URL's\n",
    "\n",
    "append_str = 'https://atosoficiais.com.br'\n",
    "link_resolucoes = [append_str + sub for sub in Link]  # Adicionando o préfixo"
   ]
  },
  {
   "cell_type": "markdown",
   "metadata": {
    "id": "rpdmvilb_atF"
   },
   "source": [
    "# Pegando a parte textual"
   ]
  },
  {
   "cell_type": "code",
   "execution_count": 2,
   "metadata": {
    "id": "4jqbFoTi_tks"
   },
   "outputs": [],
   "source": [
    "url_list = link_resolucoes # Entrando com a lista de URL's em interesse\n",
    "\n",
    "Texto = []\n",
    "Titulo = []\n",
    "\n",
    "for url in url_list :\n",
    "  header = {'User-Agent': \"'Mozilla/5.0'\"}\n",
    "  html = requests.get(url, headers = header)\n",
    "  bs_obj = BeautifulSoup(html.text,\"lxml\")\n",
    "  posicao = bs_obj.find_all(\"div\", {\"id\": \"conteudo-principal\"})\n",
    "\n",
    "  hrefs = ' '.join([str(elem) for elem in posicao]).split('\\n')\n",
    "\n",
    "  Resultado = []\n",
    "  for i in range(0,len(hrefs)): # Separando a parte textual em interesse\n",
    "    if 'class=\"text-center\"' in hrefs[i]:\n",
    "      Resul = hrefs[i].split('<center>',1)[1]\n",
    "      Resultado.append(Resul)\n",
    "\n",
    "  for i in range(0,len(Resultado)): # Separando o título\n",
    "   title =  Resultado[i].split('<h2>',1)[1].split('</h2>',1)[0]\n",
    "   Titulo.append(title)\n",
    "\n",
    "  for i in range(0,len(Resultado)):  # Separando o título\n",
    "    text = Resultado[i].split('</h2>',1)[1].split('</i></p>',1)[0].replace('</h1>','').replace('<br/>','').replace('<h1>','').replace('<br>','')\n",
    "    Texto.append(text)"
   ]
  },
  {
   "cell_type": "markdown",
   "metadata": {
    "id": "gszw0dKbK--M"
   },
   "source": [
    "# Criando o banco de Dados Brutos"
   ]
  },
  {
   "cell_type": "code",
   "execution_count": 74,
   "metadata": {
    "id": "LIh_6RLL6LUs"
   },
   "outputs": [],
   "source": [
    "################################################ Criando o ID\n",
    "\n",
    "Tipo = ['707']*len(Titulo) # Tipo de Lei\n",
    "\n",
    "Ano_lei = [] # Pegando o ano da lei\n",
    "\n",
    "for i in range(0,len(Titulo)):\n",
    "  ano = Titulo[i].split('DE',1)[1].split('-',1)[0]\n",
    "  if ',' in Titulo[i]:\n",
    "    Ano_lei.append(ano.split(',',1)[0])\n",
    "    \n",
    "  else: \n",
    "    Ano_lei.append(ano)\n",
    "\n",
    "ano_lei_2 = []\n",
    "for i in range(0,len(Ano_lei)):\n",
    "  result = Ano_lei[i].replace(' ','').replace('(*)','').replace('.','')[-4:]\n",
    "  ano_lei_2.append(result)\n",
    "    \n",
    "\n",
    "Num_lei = [] # Pegando o número da lei\n",
    "for i in range(0,len(Titulo)):\n",
    "    \n",
    "    if 'Nº' in str(Titulo[i]):\n",
    "      ano = Titulo[i].split(',',1)[0].split('Nº',1)[1].replace('P','').replace('Nº','').replace('º','').replace(' ','')\n",
    "      Num_lei.append(ano)\n",
    "        \n",
    "    else: \n",
    "        ano = Titulo[i].split(',',1)[0].split('N',1)[1].replace('P','').replace('Nº','').replace('º','').replace(' ','')\n",
    "        Num_lei.append(ano)\n",
    "\n",
    "parte1 = [i + j for i, j in zip(Tipo, Num_lei)] # Juntado os valores\n",
    "ID = [i + j for i, j in zip(parte1, ano_lei_2)] \n",
    "\n",
    "################################################ Data_publicação\n",
    "\n",
    "Data_DOU = [] # Pegando a data de publicação no DOU\n",
    "\n",
    "for i in range(0,len(Titulo)):\n",
    "    ano = Titulo[i].split(\"DE \",1)[1].replace('(*)','').replace('-','').replace(',','')\n",
    "    Data_DOU.append(ano)\n",
    " \n",
    "Data_DOU_limpeza_1 = []\n",
    "\n",
    "for i in range(0,len(Data_DOU)):\n",
    "    if 'DOU' in str(Data_DOU[i]):\n",
    "        limpeza = str(Data_DOU[i]).split(\"DOU\",1)[0].replace('  ','')\n",
    "        Data_DOU_limpeza_1.append(limpeza)\n",
    "\n",
    "\n",
    "################################################ Revogada\n",
    "\n",
    "Resultado_revoga = []\n",
    "for i in range(0,len(Link)):\n",
    "  if 'Norma revogada' in Link[i]:\n",
    "    result = True\n",
    "    Resultado_revoga.append(result)\n",
    "  else:\n",
    "    result = False\n",
    "    Resultado_revoga.append(result)\n",
    "\n",
    "\n",
    "\n",
    "\n",
    "import pandas as pd\n",
    "\n",
    "# Criando um DataFrame para alocar os outputs\n",
    "\n",
    "dados = pd.DataFrame (ID ,columns=['ID'])\n",
    "dados['Texto_lei'] = Texto\n",
    "dados['Data_lei'] = Ano_lei\n",
    "dados['Data_publicação'] = Data_Dou\n",
    "dados['Tipo_lei'] = Tipo\n",
    "dados['Revogada'] = Resultado_revoga\n",
    "dados['Setor'] = ['Anp']*len(Titulo)"
   ]
  },
  {
   "cell_type": "code",
   "execution_count": 77,
   "metadata": {
    "id": "brJBu0jBldJK"
   },
   "outputs": [],
   "source": [
    "dados.to_csv(\"Resolucao_ANP.txt\", index=False, encoding='utf-8-sig', sep = '汉')"
   ]
  }
 ],
 "metadata": {
  "colab": {
   "collapsed_sections": [],
   "name": "Resolucao_ANP.ipynb",
   "provenance": []
  },
  "kernelspec": {
   "display_name": "Python 3",
   "language": "python",
   "name": "python3"
  },
  "language_info": {
   "codemirror_mode": {
    "name": "ipython",
    "version": 3
   },
   "file_extension": ".py",
   "mimetype": "text/x-python",
   "name": "python",
   "nbconvert_exporter": "python",
   "pygments_lexer": "ipython3",
   "version": "3.8.8"
  }
 },
 "nbformat": 4,
 "nbformat_minor": 1
}
