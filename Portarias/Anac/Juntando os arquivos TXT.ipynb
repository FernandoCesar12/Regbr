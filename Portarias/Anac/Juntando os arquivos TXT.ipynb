{
 "cells": [
  {
   "cell_type": "markdown",
   "id": "21337ec6",
   "metadata": {},
   "source": [
    "# Removendo a limitação do número de linhas"
   ]
  },
  {
   "cell_type": "code",
   "execution_count": 1,
   "id": "fd6c2ced",
   "metadata": {},
   "outputs": [],
   "source": [
    "import sys\n",
    "import csv\n",
    "maxInt = sys.maxsize\n",
    "\n",
    "while True:\n",
    "    # decrease the maxInt value by factor 10 \n",
    "    # as long as the OverflowError occurs.\n",
    "\n",
    "    try:\n",
    "        csv.field_size_limit(maxInt)\n",
    "        break\n",
    "    except OverflowError:\n",
    "        maxInt = int(maxInt/10)"
   ]
  },
  {
   "cell_type": "markdown",
   "id": "be6d888a",
   "metadata": {},
   "source": [
    "# Realizando a importação da base de dados"
   ]
  },
  {
   "cell_type": "code",
   "execution_count": 2,
   "id": "56658f03",
   "metadata": {},
   "outputs": [
    {
     "name": "stderr",
     "output_type": "stream",
     "text": [
      "<ipython-input-2-1ea80cfdfdcf>:3: ParserWarning: Falling back to the 'python' engine because the separator encoded in utf-8 is > 1 char long, and the 'c' engine does not support such separators; you can avoid this warning by specifying engine='python'.\n",
      "  df_1 = pd.read_csv('Portaria_anac_parte1.txt', sep = '汉')\n",
      "<ipython-input-2-1ea80cfdfdcf>:4: ParserWarning: Falling back to the 'python' engine because the separator encoded in utf-8 is > 1 char long, and the 'c' engine does not support such separators; you can avoid this warning by specifying engine='python'.\n",
      "  df_2 = pd.read_csv('Portaria_anac_parte2.txt', sep = '汉')\n",
      "<ipython-input-2-1ea80cfdfdcf>:5: ParserWarning: Falling back to the 'python' engine because the separator encoded in utf-8 is > 1 char long, and the 'c' engine does not support such separators; you can avoid this warning by specifying engine='python'.\n",
      "  df_3 = pd.read_csv('Portaria_anac_parte3.txt', sep = '汉')\n",
      "<ipython-input-2-1ea80cfdfdcf>:6: ParserWarning: Falling back to the 'python' engine because the separator encoded in utf-8 is > 1 char long, and the 'c' engine does not support such separators; you can avoid this warning by specifying engine='python'.\n",
      "  df_4 = pd.read_csv('Portaria_anac_parte4.txt', sep = '汉')\n",
      "<ipython-input-2-1ea80cfdfdcf>:7: ParserWarning: Falling back to the 'python' engine because the separator encoded in utf-8 is > 1 char long, and the 'c' engine does not support such separators; you can avoid this warning by specifying engine='python'.\n",
      "  df_5 = pd.read_csv('Portaria_anac_parte5.txt', sep = '汉')\n",
      "<ipython-input-2-1ea80cfdfdcf>:8: ParserWarning: Falling back to the 'python' engine because the separator encoded in utf-8 is > 1 char long, and the 'c' engine does not support such separators; you can avoid this warning by specifying engine='python'.\n",
      "  df_6 = pd.read_csv('Portaria_anac_parte6.txt', sep = '汉')\n",
      "<ipython-input-2-1ea80cfdfdcf>:9: ParserWarning: Falling back to the 'python' engine because the separator encoded in utf-8 is > 1 char long, and the 'c' engine does not support such separators; you can avoid this warning by specifying engine='python'.\n",
      "  df_7 = pd.read_csv('Portaria_anac_parte7.txt', sep = '汉')\n",
      "<ipython-input-2-1ea80cfdfdcf>:10: ParserWarning: Falling back to the 'python' engine because the separator encoded in utf-8 is > 1 char long, and the 'c' engine does not support such separators; you can avoid this warning by specifying engine='python'.\n",
      "  df_8 = pd.read_csv('Portaria_anac_parte8.txt', sep = '汉')\n"
     ]
    }
   ],
   "source": [
    "import pandas as pd\n",
    "\n",
    "df_1 = pd.read_csv('Portaria_anac_parte1.txt', sep = '汉')\n",
    "df_2 = pd.read_csv('Portaria_anac_parte2.txt', sep = '汉')\n",
    "df_3 = pd.read_csv('Portaria_anac_parte3.txt', sep = '汉')\n",
    "df_4 = pd.read_csv('Portaria_anac_parte4.txt', sep = '汉')\n",
    "df_5 = pd.read_csv('Portaria_anac_parte5.txt', sep = '汉')\n",
    "df_6 = pd.read_csv('Portaria_anac_parte6.txt', sep = '汉')\n",
    "df_7 = pd.read_csv('Portaria_anac_parte7.txt', sep = '汉')\n",
    "df_8 = pd.read_csv('Portaria_anac_parte8.txt', sep = '汉')"
   ]
  },
  {
   "cell_type": "markdown",
   "id": "080a27d3",
   "metadata": {},
   "source": [
    "# Juntando os Dataframes "
   ]
  },
  {
   "cell_type": "code",
   "execution_count": 3,
   "id": "34edfd64",
   "metadata": {},
   "outputs": [],
   "source": [
    "dados_1 = pd.concat([df_1,df_2])\n",
    "dados_2 = pd.concat([dados_1,df_3])\n",
    "dados_3 = pd.concat([dados_2,df_4])\n",
    "dados_4 = pd.concat([dados_3,df_5])\n",
    "dados_5 = pd.concat([dados_4,df_6])\n",
    "dados_6 = pd.concat([dados_5,df_7])\n",
    "dados_7 = pd.concat([dados_6,df_8])"
   ]
  },
  {
   "cell_type": "code",
   "execution_count": 4,
   "id": "d8012c4f",
   "metadata": {},
   "outputs": [
    {
     "data": {
      "text/html": [
       "<div>\n",
       "<style scoped>\n",
       "    .dataframe tbody tr th:only-of-type {\n",
       "        vertical-align: middle;\n",
       "    }\n",
       "\n",
       "    .dataframe tbody tr th {\n",
       "        vertical-align: top;\n",
       "    }\n",
       "\n",
       "    .dataframe thead th {\n",
       "        text-align: right;\n",
       "    }\n",
       "</style>\n",
       "<table border=\"1\" class=\"dataframe\">\n",
       "  <thead>\n",
       "    <tr style=\"text-align: right;\">\n",
       "      <th></th>\n",
       "      <th>ID</th>\n",
       "      <th>Texto_lei</th>\n",
       "      <th>Data_lei</th>\n",
       "      <th>Data_publicação</th>\n",
       "      <th>Revogada</th>\n",
       "      <th>Tipo_lei</th>\n",
       "      <th>Setor</th>\n",
       "    </tr>\n",
       "  </thead>\n",
       "  <tbody>\n",
       "    <tr>\n",
       "      <th>2</th>\n",
       "      <td>8023092006</td>\n",
       "      <td>[]</td>\n",
       "      <td>09 out 2006</td>\n",
       "      <td>NaN</td>\n",
       "      <td>False</td>\n",
       "      <td>802</td>\n",
       "      <td>Anac</td>\n",
       "    </tr>\n",
       "    <tr>\n",
       "      <th>53</th>\n",
       "      <td>802x2014</td>\n",
       "      <td>[]</td>\n",
       "      <td>21 de outubro de 2014</td>\n",
       "      <td>NaN</td>\n",
       "      <td>False</td>\n",
       "      <td>802</td>\n",
       "      <td>Anac</td>\n",
       "    </tr>\n",
       "    <tr>\n",
       "      <th>95</th>\n",
       "      <td>80232982018</td>\n",
       "      <td>[]</td>\n",
       "      <td>23 de outubro de 2018</td>\n",
       "      <td>NaN</td>\n",
       "      <td>False</td>\n",
       "      <td>802</td>\n",
       "      <td>Anac</td>\n",
       "    </tr>\n",
       "    <tr>\n",
       "      <th>18</th>\n",
       "      <td>80237582018</td>\n",
       "      <td>[]</td>\n",
       "      <td>NaN</td>\n",
       "      <td>NaN</td>\n",
       "      <td>False</td>\n",
       "      <td>802</td>\n",
       "      <td>Anac</td>\n",
       "    </tr>\n",
       "    <tr>\n",
       "      <th>19</th>\n",
       "      <td>80239362018</td>\n",
       "      <td>[]</td>\n",
       "      <td>NaN</td>\n",
       "      <td>NaN</td>\n",
       "      <td>False</td>\n",
       "      <td>802</td>\n",
       "      <td>Anac</td>\n",
       "    </tr>\n",
       "    <tr>\n",
       "      <th>...</th>\n",
       "      <td>...</td>\n",
       "      <td>...</td>\n",
       "      <td>...</td>\n",
       "      <td>...</td>\n",
       "      <td>...</td>\n",
       "      <td>...</td>\n",
       "      <td>...</td>\n",
       "    </tr>\n",
       "    <tr>\n",
       "      <th>532</th>\n",
       "      <td>802inte1994</td>\n",
       "      <td>[]</td>\n",
       "      <td>28 abr 1994</td>\n",
       "      <td>NaN</td>\n",
       "      <td>False</td>\n",
       "      <td>802</td>\n",
       "      <td>Anac</td>\n",
       "    </tr>\n",
       "    <tr>\n",
       "      <th>533</th>\n",
       "      <td>802inte1994</td>\n",
       "      <td>[]</td>\n",
       "      <td>28 abr 1994</td>\n",
       "      <td>NaN</td>\n",
       "      <td>False</td>\n",
       "      <td>802</td>\n",
       "      <td>Anac</td>\n",
       "    </tr>\n",
       "    <tr>\n",
       "      <th>534</th>\n",
       "      <td>802inte1994</td>\n",
       "      <td>[]</td>\n",
       "      <td>28 abr 1994</td>\n",
       "      <td>NaN</td>\n",
       "      <td>False</td>\n",
       "      <td>802</td>\n",
       "      <td>Anac</td>\n",
       "    </tr>\n",
       "    <tr>\n",
       "      <th>542</th>\n",
       "      <td>80231972</td>\n",
       "      <td>[]</td>\n",
       "      <td>NaN</td>\n",
       "      <td>NaN</td>\n",
       "      <td>False</td>\n",
       "      <td>802</td>\n",
       "      <td>Anac</td>\n",
       "    </tr>\n",
       "    <tr>\n",
       "      <th>543</th>\n",
       "      <td>8021381973</td>\n",
       "      <td>[]</td>\n",
       "      <td>27 dez 1973</td>\n",
       "      <td>NaN</td>\n",
       "      <td>False</td>\n",
       "      <td>802</td>\n",
       "      <td>Anac</td>\n",
       "    </tr>\n",
       "  </tbody>\n",
       "</table>\n",
       "<p>944 rows × 7 columns</p>\n",
       "</div>"
      ],
      "text/plain": [
       "              ID Texto_lei                Data_lei  Data_publicação  Revogada  \\\n",
       "2     8023092006        []             09 out 2006              NaN     False   \n",
       "53      802x2014        []   21 de outubro de 2014              NaN     False   \n",
       "95   80232982018        []   23 de outubro de 2018              NaN     False   \n",
       "18   80237582018        []                     NaN              NaN     False   \n",
       "19   80239362018        []                     NaN              NaN     False   \n",
       "..           ...       ...                     ...              ...       ...   \n",
       "532  802inte1994        []             28 abr 1994              NaN     False   \n",
       "533  802inte1994        []             28 abr 1994              NaN     False   \n",
       "534  802inte1994        []             28 abr 1994              NaN     False   \n",
       "542     80231972        []                     NaN              NaN     False   \n",
       "543   8021381973        []             27 dez 1973              NaN     False   \n",
       "\n",
       "     Tipo_lei Setor  \n",
       "2         802  Anac  \n",
       "53        802  Anac  \n",
       "95        802  Anac  \n",
       "18        802  Anac  \n",
       "19        802  Anac  \n",
       "..        ...   ...  \n",
       "532       802  Anac  \n",
       "533       802  Anac  \n",
       "534       802  Anac  \n",
       "542       802  Anac  \n",
       "543       802  Anac  \n",
       "\n",
       "[944 rows x 7 columns]"
      ]
     },
     "execution_count": 4,
     "metadata": {},
     "output_type": "execute_result"
    }
   ],
   "source": [
    "dados_7[dados_7['Texto_lei'].map(len) < 5]"
   ]
  },
  {
   "cell_type": "markdown",
   "id": "7b94288c",
   "metadata": {},
   "source": [
    "# Removendo os links corrompidos"
   ]
  },
  {
   "cell_type": "code",
   "execution_count": 5,
   "id": "f29c5af8",
   "metadata": {},
   "outputs": [],
   "source": [
    "df = dados_7[dados_7['Texto_lei'].map(len) >= 5]"
   ]
  },
  {
   "cell_type": "markdown",
   "id": "8601ef2d",
   "metadata": {},
   "source": [
    "# Exportando os resultados"
   ]
  },
  {
   "cell_type": "code",
   "execution_count": 6,
   "id": "42915d0e",
   "metadata": {},
   "outputs": [],
   "source": [
    "df.to_csv(\"Portaria_anac.txt\", index=False, encoding='utf-8-sig', sep = '汉')"
   ]
  }
 ],
 "metadata": {
  "kernelspec": {
   "display_name": "Python 3",
   "language": "python",
   "name": "python3"
  },
  "language_info": {
   "codemirror_mode": {
    "name": "ipython",
    "version": 3
   },
   "file_extension": ".py",
   "mimetype": "text/x-python",
   "name": "python",
   "nbconvert_exporter": "python",
   "pygments_lexer": "ipython3",
   "version": "3.8.8"
  }
 },
 "nbformat": 4,
 "nbformat_minor": 5
}
