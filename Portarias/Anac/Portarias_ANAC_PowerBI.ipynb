{
  "nbformat": 4,
  "nbformat_minor": 0,
  "metadata": {
    "colab": {
      "name": "Portarias_ANAC_PowerBI.ipynb",
      "provenance": [],
      "collapsed_sections": []
    },
    "kernelspec": {
      "name": "python3",
      "display_name": "Python 3"
    },
    "language_info": {
      "name": "python"
    },
    "accelerator": "GPU"
  },
  "cells": [
    {
      "cell_type": "markdown",
      "metadata": {
        "id": "DOzMLrMoUy0i"
      },
      "source": [
        "# Se conectando com o Google Drive\n"
      ]
    },
    {
      "cell_type": "code",
      "metadata": {
        "colab": {
          "base_uri": "https://localhost:8080/"
        },
        "id": "eJEtKPzqUvz7",
        "outputId": "2d34fba4-328a-474f-d517-1c723b4d21ac"
      },
      "source": [
        "from google.colab import drive\n",
        "drive.mount('/gdrive', force_remount=True)"
      ],
      "execution_count": null,
      "outputs": [
        {
          "output_type": "stream",
          "name": "stdout",
          "text": [
            "Mounted at /gdrive\n"
          ]
        }
      ]
    },
    {
      "cell_type": "code",
      "metadata": {
        "colab": {
          "base_uri": "https://localhost:8080/"
        },
        "id": "vb-j808QUz8W",
        "outputId": "c8e77109-5b9a-4bcb-ccfd-d8f331109d1b"
      },
      "source": [
        "%cd '/gdrive/My Drive/PDFs_ANA'\n",
        "%ls"
      ],
      "execution_count": null,
      "outputs": [
        {
          "output_type": "stream",
          "name": "stdout",
          "text": [
            "/gdrive/My Drive/PDFs_ANA\n",
            "ANAC.csv                    Resolucao_ANAC_parte4.txt\n",
            "portarias_antigo.xlsx       Resolucao_ANAC_parte5.txt\n",
            "Resolucao_ANAC_parte10.txt  Resolucao_ANAC_parte6.txt\n",
            "Resolucao_ANAC_parte11.txt  Resolucao_ANAC_parte7.txt\n",
            "Resolucao_ANAC_parte1.txt   Resolucao_ANAC_parte8.txt\n",
            "Resolucao_ANAC_parte2.txt   Resolucao_ANAC_parte9.txt\n",
            "Resolucao_ANAC_parte3.txt\n"
          ]
        }
      ]
    },
    {
      "cell_type": "markdown",
      "metadata": {
        "id": "7V2XGDZ-U2ro"
      },
      "source": [
        "# Entrando com os pacotes necessários"
      ]
    },
    {
      "cell_type": "code",
      "metadata": {
        "colab": {
          "base_uri": "https://localhost:8080/"
        },
        "id": "PJ6a9GSGU3D6",
        "outputId": "384eb686-2ad5-4119-a262-b4c4bc244bc7"
      },
      "source": [
        "!pip install selenium\n",
        "!apt-get update # to update ubuntu to correctly run apt install\n",
        "!apt install chromium-chromedriver\n",
        "!cp /usr/lib/chromium-browser/chromedriver /usr/bin"
      ],
      "execution_count": null,
      "outputs": [
        {
          "output_type": "stream",
          "name": "stdout",
          "text": [
            "Collecting selenium\n",
            "  Downloading selenium-3.141.0-py2.py3-none-any.whl (904 kB)\n",
            "\u001b[?25l\r\u001b[K     |▍                               | 10 kB 19.7 MB/s eta 0:00:01\r\u001b[K     |▊                               | 20 kB 10.0 MB/s eta 0:00:01\r\u001b[K     |█                               | 30 kB 8.4 MB/s eta 0:00:01\r\u001b[K     |█▌                              | 40 kB 7.7 MB/s eta 0:00:01\r\u001b[K     |█▉                              | 51 kB 4.0 MB/s eta 0:00:01\r\u001b[K     |██▏                             | 61 kB 4.2 MB/s eta 0:00:01\r\u001b[K     |██▌                             | 71 kB 4.5 MB/s eta 0:00:01\r\u001b[K     |███                             | 81 kB 5.1 MB/s eta 0:00:01\r\u001b[K     |███▎                            | 92 kB 5.1 MB/s eta 0:00:01\r\u001b[K     |███▋                            | 102 kB 4.2 MB/s eta 0:00:01\r\u001b[K     |████                            | 112 kB 4.2 MB/s eta 0:00:01\r\u001b[K     |████▍                           | 122 kB 4.2 MB/s eta 0:00:01\r\u001b[K     |████▊                           | 133 kB 4.2 MB/s eta 0:00:01\r\u001b[K     |█████                           | 143 kB 4.2 MB/s eta 0:00:01\r\u001b[K     |█████▍                          | 153 kB 4.2 MB/s eta 0:00:01\r\u001b[K     |█████▉                          | 163 kB 4.2 MB/s eta 0:00:01\r\u001b[K     |██████▏                         | 174 kB 4.2 MB/s eta 0:00:01\r\u001b[K     |██████▌                         | 184 kB 4.2 MB/s eta 0:00:01\r\u001b[K     |██████▉                         | 194 kB 4.2 MB/s eta 0:00:01\r\u001b[K     |███████▎                        | 204 kB 4.2 MB/s eta 0:00:01\r\u001b[K     |███████▋                        | 215 kB 4.2 MB/s eta 0:00:01\r\u001b[K     |████████                        | 225 kB 4.2 MB/s eta 0:00:01\r\u001b[K     |████████▎                       | 235 kB 4.2 MB/s eta 0:00:01\r\u001b[K     |████████▊                       | 245 kB 4.2 MB/s eta 0:00:01\r\u001b[K     |█████████                       | 256 kB 4.2 MB/s eta 0:00:01\r\u001b[K     |█████████▍                      | 266 kB 4.2 MB/s eta 0:00:01\r\u001b[K     |█████████▉                      | 276 kB 4.2 MB/s eta 0:00:01\r\u001b[K     |██████████▏                     | 286 kB 4.2 MB/s eta 0:00:01\r\u001b[K     |██████████▌                     | 296 kB 4.2 MB/s eta 0:00:01\r\u001b[K     |██████████▉                     | 307 kB 4.2 MB/s eta 0:00:01\r\u001b[K     |███████████▎                    | 317 kB 4.2 MB/s eta 0:00:01\r\u001b[K     |███████████▋                    | 327 kB 4.2 MB/s eta 0:00:01\r\u001b[K     |████████████                    | 337 kB 4.2 MB/s eta 0:00:01\r\u001b[K     |████████████▎                   | 348 kB 4.2 MB/s eta 0:00:01\r\u001b[K     |████████████▊                   | 358 kB 4.2 MB/s eta 0:00:01\r\u001b[K     |█████████████                   | 368 kB 4.2 MB/s eta 0:00:01\r\u001b[K     |█████████████▍                  | 378 kB 4.2 MB/s eta 0:00:01\r\u001b[K     |█████████████▊                  | 389 kB 4.2 MB/s eta 0:00:01\r\u001b[K     |██████████████▏                 | 399 kB 4.2 MB/s eta 0:00:01\r\u001b[K     |██████████████▌                 | 409 kB 4.2 MB/s eta 0:00:01\r\u001b[K     |██████████████▉                 | 419 kB 4.2 MB/s eta 0:00:01\r\u001b[K     |███████████████▏                | 430 kB 4.2 MB/s eta 0:00:01\r\u001b[K     |███████████████▋                | 440 kB 4.2 MB/s eta 0:00:01\r\u001b[K     |████████████████                | 450 kB 4.2 MB/s eta 0:00:01\r\u001b[K     |████████████████▎               | 460 kB 4.2 MB/s eta 0:00:01\r\u001b[K     |████████████████▋               | 471 kB 4.2 MB/s eta 0:00:01\r\u001b[K     |█████████████████               | 481 kB 4.2 MB/s eta 0:00:01\r\u001b[K     |█████████████████▍              | 491 kB 4.2 MB/s eta 0:00:01\r\u001b[K     |█████████████████▊              | 501 kB 4.2 MB/s eta 0:00:01\r\u001b[K     |██████████████████▏             | 512 kB 4.2 MB/s eta 0:00:01\r\u001b[K     |██████████████████▌             | 522 kB 4.2 MB/s eta 0:00:01\r\u001b[K     |██████████████████▉             | 532 kB 4.2 MB/s eta 0:00:01\r\u001b[K     |███████████████████▏            | 542 kB 4.2 MB/s eta 0:00:01\r\u001b[K     |███████████████████▋            | 552 kB 4.2 MB/s eta 0:00:01\r\u001b[K     |████████████████████            | 563 kB 4.2 MB/s eta 0:00:01\r\u001b[K     |████████████████████▎           | 573 kB 4.2 MB/s eta 0:00:01\r\u001b[K     |████████████████████▋           | 583 kB 4.2 MB/s eta 0:00:01\r\u001b[K     |█████████████████████           | 593 kB 4.2 MB/s eta 0:00:01\r\u001b[K     |█████████████████████▍          | 604 kB 4.2 MB/s eta 0:00:01\r\u001b[K     |█████████████████████▊          | 614 kB 4.2 MB/s eta 0:00:01\r\u001b[K     |██████████████████████          | 624 kB 4.2 MB/s eta 0:00:01\r\u001b[K     |██████████████████████▌         | 634 kB 4.2 MB/s eta 0:00:01\r\u001b[K     |██████████████████████▉         | 645 kB 4.2 MB/s eta 0:00:01\r\u001b[K     |███████████████████████▏        | 655 kB 4.2 MB/s eta 0:00:01\r\u001b[K     |███████████████████████▌        | 665 kB 4.2 MB/s eta 0:00:01\r\u001b[K     |████████████████████████        | 675 kB 4.2 MB/s eta 0:00:01\r\u001b[K     |████████████████████████▎       | 686 kB 4.2 MB/s eta 0:00:01\r\u001b[K     |████████████████████████▋       | 696 kB 4.2 MB/s eta 0:00:01\r\u001b[K     |█████████████████████████       | 706 kB 4.2 MB/s eta 0:00:01\r\u001b[K     |█████████████████████████▍      | 716 kB 4.2 MB/s eta 0:00:01\r\u001b[K     |█████████████████████████▊      | 727 kB 4.2 MB/s eta 0:00:01\r\u001b[K     |██████████████████████████      | 737 kB 4.2 MB/s eta 0:00:01\r\u001b[K     |██████████████████████████▍     | 747 kB 4.2 MB/s eta 0:00:01\r\u001b[K     |██████████████████████████▉     | 757 kB 4.2 MB/s eta 0:00:01\r\u001b[K     |███████████████████████████▏    | 768 kB 4.2 MB/s eta 0:00:01\r\u001b[K     |███████████████████████████▌    | 778 kB 4.2 MB/s eta 0:00:01\r\u001b[K     |████████████████████████████    | 788 kB 4.2 MB/s eta 0:00:01\r\u001b[K     |████████████████████████████▎   | 798 kB 4.2 MB/s eta 0:00:01\r\u001b[K     |████████████████████████████▋   | 808 kB 4.2 MB/s eta 0:00:01\r\u001b[K     |█████████████████████████████   | 819 kB 4.2 MB/s eta 0:00:01\r\u001b[K     |█████████████████████████████▍  | 829 kB 4.2 MB/s eta 0:00:01\r\u001b[K     |█████████████████████████████▊  | 839 kB 4.2 MB/s eta 0:00:01\r\u001b[K     |██████████████████████████████  | 849 kB 4.2 MB/s eta 0:00:01\r\u001b[K     |██████████████████████████████▍ | 860 kB 4.2 MB/s eta 0:00:01\r\u001b[K     |██████████████████████████████▉ | 870 kB 4.2 MB/s eta 0:00:01\r\u001b[K     |███████████████████████████████▏| 880 kB 4.2 MB/s eta 0:00:01\r\u001b[K     |███████████████████████████████▌| 890 kB 4.2 MB/s eta 0:00:01\r\u001b[K     |███████████████████████████████▉| 901 kB 4.2 MB/s eta 0:00:01\r\u001b[K     |████████████████████████████████| 904 kB 4.2 MB/s \n",
            "\u001b[?25hRequirement already satisfied: urllib3 in /usr/local/lib/python3.7/dist-packages (from selenium) (1.24.3)\n",
            "Installing collected packages: selenium\n",
            "Successfully installed selenium-3.141.0\n",
            "Get:1 https://cloud.r-project.org/bin/linux/ubuntu bionic-cran40/ InRelease [3,626 B]\n",
            "Ign:2 https://developer.download.nvidia.com/compute/cuda/repos/ubuntu1804/x86_64  InRelease\n",
            "Get:3 http://security.ubuntu.com/ubuntu bionic-security InRelease [88.7 kB]\n",
            "Ign:4 https://developer.download.nvidia.com/compute/machine-learning/repos/ubuntu1804/x86_64  InRelease\n",
            "Get:5 https://developer.download.nvidia.com/compute/cuda/repos/ubuntu1804/x86_64  Release [696 B]\n",
            "Hit:6 https://developer.download.nvidia.com/compute/machine-learning/repos/ubuntu1804/x86_64  Release\n",
            "Hit:7 http://archive.ubuntu.com/ubuntu bionic InRelease\n",
            "Get:8 https://developer.download.nvidia.com/compute/cuda/repos/ubuntu1804/x86_64  Release.gpg [836 B]\n",
            "Get:10 http://archive.ubuntu.com/ubuntu bionic-updates InRelease [88.7 kB]\n",
            "Get:11 http://ppa.launchpad.net/c2d4u.team/c2d4u4.0+/ubuntu bionic InRelease [15.9 kB]\n",
            "Get:12 https://developer.download.nvidia.com/compute/cuda/repos/ubuntu1804/x86_64  Packages [718 kB]\n",
            "Hit:13 http://ppa.launchpad.net/cran/libgit2/ubuntu bionic InRelease\n",
            "Get:14 http://security.ubuntu.com/ubuntu bionic-security/restricted amd64 Packages [567 kB]\n",
            "Get:15 http://archive.ubuntu.com/ubuntu bionic-backports InRelease [74.6 kB]\n",
            "Get:16 http://ppa.launchpad.net/deadsnakes/ppa/ubuntu bionic InRelease [15.9 kB]\n",
            "Get:17 http://archive.ubuntu.com/ubuntu bionic-updates/main amd64 Packages [2,760 kB]\n",
            "Get:18 http://security.ubuntu.com/ubuntu bionic-security/universe amd64 Packages [1,428 kB]\n",
            "Hit:19 http://ppa.launchpad.net/graphics-drivers/ppa/ubuntu bionic InRelease\n",
            "Get:20 http://security.ubuntu.com/ubuntu bionic-security/main amd64 Packages [2,324 kB]\n",
            "Get:21 http://ppa.launchpad.net/c2d4u.team/c2d4u4.0+/ubuntu bionic/main Sources [1,799 kB]\n",
            "Get:22 http://archive.ubuntu.com/ubuntu bionic-updates/universe amd64 Packages [2,202 kB]\n",
            "Get:23 http://archive.ubuntu.com/ubuntu bionic-updates/restricted amd64 Packages [600 kB]\n",
            "Get:24 http://ppa.launchpad.net/c2d4u.team/c2d4u4.0+/ubuntu bionic/main amd64 Packages [921 kB]\n",
            "Get:25 http://ppa.launchpad.net/deadsnakes/ppa/ubuntu bionic/main amd64 Packages [40.8 kB]\n",
            "Fetched 13.6 MB in 7s (1,826 kB/s)\n",
            "Reading package lists... Done\n",
            "Reading package lists... Done\n",
            "Building dependency tree       \n",
            "Reading state information... Done\n",
            "The following additional packages will be installed:\n",
            "  chromium-browser chromium-browser-l10n chromium-codecs-ffmpeg-extra\n",
            "Suggested packages:\n",
            "  webaccounts-chromium-extension unity-chromium-extension\n",
            "The following NEW packages will be installed:\n",
            "  chromium-browser chromium-browser-l10n chromium-chromedriver\n",
            "  chromium-codecs-ffmpeg-extra\n",
            "0 upgraded, 4 newly installed, 0 to remove and 90 not upgraded.\n",
            "Need to get 91.8 MB of archives.\n",
            "After this operation, 315 MB of additional disk space will be used.\n",
            "Get:1 http://archive.ubuntu.com/ubuntu bionic-updates/universe amd64 chromium-codecs-ffmpeg-extra amd64 92.0.4515.159-0ubuntu0.18.04.1 [1,124 kB]\n",
            "Get:2 http://archive.ubuntu.com/ubuntu bionic-updates/universe amd64 chromium-browser amd64 92.0.4515.159-0ubuntu0.18.04.1 [81.7 MB]\n",
            "Get:3 http://archive.ubuntu.com/ubuntu bionic-updates/universe amd64 chromium-browser-l10n all 92.0.4515.159-0ubuntu0.18.04.1 [4,026 kB]\n",
            "Get:4 http://archive.ubuntu.com/ubuntu bionic-updates/universe amd64 chromium-chromedriver amd64 92.0.4515.159-0ubuntu0.18.04.1 [4,902 kB]\n",
            "Fetched 91.8 MB in 10s (9,200 kB/s)\n",
            "Selecting previously unselected package chromium-codecs-ffmpeg-extra.\n",
            "(Reading database ... 148492 files and directories currently installed.)\n",
            "Preparing to unpack .../chromium-codecs-ffmpeg-extra_92.0.4515.159-0ubuntu0.18.04.1_amd64.deb ...\n",
            "Unpacking chromium-codecs-ffmpeg-extra (92.0.4515.159-0ubuntu0.18.04.1) ...\n",
            "Selecting previously unselected package chromium-browser.\n",
            "Preparing to unpack .../chromium-browser_92.0.4515.159-0ubuntu0.18.04.1_amd64.deb ...\n",
            "Unpacking chromium-browser (92.0.4515.159-0ubuntu0.18.04.1) ...\n",
            "Selecting previously unselected package chromium-browser-l10n.\n",
            "Preparing to unpack .../chromium-browser-l10n_92.0.4515.159-0ubuntu0.18.04.1_all.deb ...\n",
            "Unpacking chromium-browser-l10n (92.0.4515.159-0ubuntu0.18.04.1) ...\n",
            "Selecting previously unselected package chromium-chromedriver.\n",
            "Preparing to unpack .../chromium-chromedriver_92.0.4515.159-0ubuntu0.18.04.1_amd64.deb ...\n",
            "Unpacking chromium-chromedriver (92.0.4515.159-0ubuntu0.18.04.1) ...\n",
            "Setting up chromium-codecs-ffmpeg-extra (92.0.4515.159-0ubuntu0.18.04.1) ...\n",
            "Setting up chromium-browser (92.0.4515.159-0ubuntu0.18.04.1) ...\n",
            "update-alternatives: using /usr/bin/chromium-browser to provide /usr/bin/x-www-browser (x-www-browser) in auto mode\n",
            "update-alternatives: using /usr/bin/chromium-browser to provide /usr/bin/gnome-www-browser (gnome-www-browser) in auto mode\n",
            "Setting up chromium-chromedriver (92.0.4515.159-0ubuntu0.18.04.1) ...\n",
            "Setting up chromium-browser-l10n (92.0.4515.159-0ubuntu0.18.04.1) ...\n",
            "Processing triggers for man-db (2.8.3-2ubuntu0.1) ...\n",
            "Processing triggers for hicolor-icon-theme (0.17-2) ...\n",
            "Processing triggers for mime-support (3.60ubuntu1) ...\n",
            "Processing triggers for libc-bin (2.27-3ubuntu1.2) ...\n",
            "/sbin/ldconfig.real: /usr/local/lib/python3.7/dist-packages/ideep4py/lib/libmkldnn.so.0 is not a symbolic link\n",
            "\n",
            "cp: '/usr/lib/chromium-browser/chromedriver' and '/usr/bin/chromedriver' are the same file\n"
          ]
        }
      ]
    },
    {
      "cell_type": "code",
      "metadata": {
        "colab": {
          "base_uri": "https://localhost:8080/"
        },
        "id": "LDjimTIhU4gf",
        "outputId": "b97d5e77-ff4c-4f01-8362-1145692f90e6"
      },
      "source": [
        "!pip install pdf2image\n",
        "!apt-get install -y poppler-utils\n",
        "from pdf2image import convert_from_path\n",
        "from PIL import Image"
      ],
      "execution_count": null,
      "outputs": [
        {
          "output_type": "stream",
          "name": "stdout",
          "text": [
            "Collecting pdf2image\n",
            "  Downloading pdf2image-1.16.0-py3-none-any.whl (10 kB)\n",
            "Requirement already satisfied: pillow in /usr/local/lib/python3.7/dist-packages (from pdf2image) (7.1.2)\n",
            "Installing collected packages: pdf2image\n",
            "Successfully installed pdf2image-1.16.0\n",
            "Reading package lists... Done\n",
            "Building dependency tree       \n",
            "Reading state information... Done\n",
            "The following NEW packages will be installed:\n",
            "  poppler-utils\n",
            "0 upgraded, 1 newly installed, 0 to remove and 90 not upgraded.\n",
            "Need to get 154 kB of archives.\n",
            "After this operation, 613 kB of additional disk space will be used.\n",
            "Get:1 http://archive.ubuntu.com/ubuntu bionic-updates/main amd64 poppler-utils amd64 0.62.0-2ubuntu2.12 [154 kB]\n",
            "Fetched 154 kB in 1s (104 kB/s)\n",
            "Selecting previously unselected package poppler-utils.\n",
            "(Reading database ... 148860 files and directories currently installed.)\n",
            "Preparing to unpack .../poppler-utils_0.62.0-2ubuntu2.12_amd64.deb ...\n",
            "Unpacking poppler-utils (0.62.0-2ubuntu2.12) ...\n",
            "Setting up poppler-utils (0.62.0-2ubuntu2.12) ...\n",
            "Processing triggers for man-db (2.8.3-2ubuntu0.1) ...\n"
          ]
        }
      ]
    },
    {
      "cell_type": "code",
      "metadata": {
        "colab": {
          "base_uri": "https://localhost:8080/"
        },
        "id": "WjQVfsFrU6Fu",
        "outputId": "ab199dcc-92d0-48a6-85a8-3bd77f06a027"
      },
      "source": [
        "pip install easyocr"
      ],
      "execution_count": null,
      "outputs": [
        {
          "output_type": "stream",
          "name": "stdout",
          "text": [
            "Collecting easyocr\n",
            "  Downloading easyocr-1.4.1-py3-none-any.whl (63.6 MB)\n",
            "\u001b[K     |████████████████████████████████| 63.6 MB 19 kB/s \n",
            "\u001b[?25hRequirement already satisfied: scipy in /usr/local/lib/python3.7/dist-packages (from easyocr) (1.4.1)\n",
            "Requirement already satisfied: torchvision>=0.5 in /usr/local/lib/python3.7/dist-packages (from easyocr) (0.10.0+cu102)\n",
            "Requirement already satisfied: Pillow<8.3.0 in /usr/local/lib/python3.7/dist-packages (from easyocr) (7.1.2)\n",
            "Requirement already satisfied: numpy in /usr/local/lib/python3.7/dist-packages (from easyocr) (1.19.5)\n",
            "Requirement already satisfied: PyYAML in /usr/local/lib/python3.7/dist-packages (from easyocr) (3.13)\n",
            "Collecting opencv-python-headless\n",
            "  Downloading opencv_python_headless-4.5.3.56-cp37-cp37m-manylinux2014_x86_64.whl (37.1 MB)\n",
            "\u001b[K     |████████████████████████████████| 37.1 MB 54 kB/s \n",
            "\u001b[?25hCollecting python-bidi\n",
            "  Downloading python_bidi-0.4.2-py2.py3-none-any.whl (30 kB)\n",
            "Requirement already satisfied: torch in /usr/local/lib/python3.7/dist-packages (from easyocr) (1.9.0+cu102)\n",
            "Requirement already satisfied: scikit-image in /usr/local/lib/python3.7/dist-packages (from easyocr) (0.16.2)\n",
            "Requirement already satisfied: typing-extensions in /usr/local/lib/python3.7/dist-packages (from torch->easyocr) (3.7.4.3)\n",
            "Requirement already satisfied: six in /usr/local/lib/python3.7/dist-packages (from python-bidi->easyocr) (1.15.0)\n",
            "Requirement already satisfied: matplotlib!=3.0.0,>=2.0.0 in /usr/local/lib/python3.7/dist-packages (from scikit-image->easyocr) (3.2.2)\n",
            "Requirement already satisfied: networkx>=2.0 in /usr/local/lib/python3.7/dist-packages (from scikit-image->easyocr) (2.6.2)\n",
            "Requirement already satisfied: PyWavelets>=0.4.0 in /usr/local/lib/python3.7/dist-packages (from scikit-image->easyocr) (1.1.1)\n",
            "Requirement already satisfied: imageio>=2.3.0 in /usr/local/lib/python3.7/dist-packages (from scikit-image->easyocr) (2.4.1)\n",
            "Requirement already satisfied: python-dateutil>=2.1 in /usr/local/lib/python3.7/dist-packages (from matplotlib!=3.0.0,>=2.0.0->scikit-image->easyocr) (2.8.2)\n",
            "Requirement already satisfied: cycler>=0.10 in /usr/local/lib/python3.7/dist-packages (from matplotlib!=3.0.0,>=2.0.0->scikit-image->easyocr) (0.10.0)\n",
            "Requirement already satisfied: pyparsing!=2.0.4,!=2.1.2,!=2.1.6,>=2.0.1 in /usr/local/lib/python3.7/dist-packages (from matplotlib!=3.0.0,>=2.0.0->scikit-image->easyocr) (2.4.7)\n",
            "Requirement already satisfied: kiwisolver>=1.0.1 in /usr/local/lib/python3.7/dist-packages (from matplotlib!=3.0.0,>=2.0.0->scikit-image->easyocr) (1.3.1)\n",
            "Installing collected packages: python-bidi, opencv-python-headless, easyocr\n",
            "Successfully installed easyocr-1.4.1 opencv-python-headless-4.5.3.56 python-bidi-0.4.2\n"
          ]
        }
      ]
    },
    {
      "cell_type": "markdown",
      "metadata": {
        "id": "YfVMrBgkeSRy"
      },
      "source": [
        "# Entrando com a base de dados"
      ]
    },
    {
      "cell_type": "code",
      "metadata": {
        "id": "--GgzJSYeQgd"
      },
      "source": [
        "import pandas as pd\n",
        "\n",
        "df = pd.read_excel('ANAC.csv', sheet_name='Portarias +Decisões + IACs')"
      ],
      "execution_count": null,
      "outputs": []
    },
    {
      "cell_type": "markdown",
      "metadata": {
        "id": "9jqVI3HpVdsb"
      },
      "source": [
        "# Separando quais portarias estão revogadas"
      ]
    },
    {
      "cell_type": "code",
      "metadata": {
        "id": "e7BPAKwkUjJ5"
      },
      "source": [
        "revogada = list(df['Revogada'])[0:3]\n",
        "\n",
        "lista_revogada = []\n",
        "\n",
        "for i in range(0,len(revogada)):\n",
        "    if 'Revogada' in str(revogada[i]):\n",
        "        lista_revogada.append('True')\n",
        "    else:\n",
        "        lista_revogada.append('False')"
      ],
      "execution_count": null,
      "outputs": []
    },
    {
      "cell_type": "markdown",
      "metadata": {
        "id": "Lm7aZO94cXf8"
      },
      "source": [
        "# Arrumando os links presentes no excel"
      ]
    },
    {
      "cell_type": "code",
      "metadata": {
        "id": "Nk74VPWKbfjq"
      },
      "source": [
        "lista_link = []\n",
        "for i in range(0,len(df['Hiperlink_Excel'])):\n",
        "  lista_link.append(df['Hiperlink_Excel'][i].replace(' ',''))\n"
      ],
      "execution_count": null,
      "outputs": []
    },
    {
      "cell_type": "markdown",
      "metadata": {
        "id": "Z7R6GDJtU-2H"
      },
      "source": [
        "# Realizando os downloads dos PDF's"
      ]
    },
    {
      "cell_type": "code",
      "metadata": {
        "colab": {
          "base_uri": "https://localhost:8080/"
        },
        "id": "z-OZUu3CU7at",
        "outputId": "d113a4e4-195d-4775-cdb2-64168225c317"
      },
      "source": [
        "from selenium import webdriver\n",
        "from pdf2image import convert_from_path\n",
        "from IPython.display import Image\n",
        "\n",
        "import pandas as pd\n",
        "import easyocr\n",
        "import os\n",
        "\n",
        "import time\n",
        "\n",
        "# initialise browser\n",
        "#browser = webdriver.Chrome(os.getcwd()+'/chromedriver')\n",
        "\n",
        "# Entrando com o banco de dados\n",
        "\n",
        "url_list = lista_link[0:3]\n",
        "            \n",
        "texto_final = []\n",
        "Url_error = []\n",
        "\n",
        "for i in range(0,len(url_list)):\n",
        "\n",
        "  try:\n",
        "\n",
        "    import sys\n",
        "    sys.path.insert(0,'/usr/lib/chromium-browser/chromedriver')\n",
        "    from selenium import webdriver\n",
        "    chrome_options = webdriver.ChromeOptions()\n",
        "    chrome_options.add_argument('--headless')\n",
        "    chrome_options.add_argument('--no-sandbox')\n",
        "    chrome_options.add_argument('--disable-dev-shm-usage')\n",
        "    browser = webdriver.Chrome('chromedriver',chrome_options=chrome_options)\n",
        "\n",
        "    browser.get(str(url_list[i]).replace('[','').replace(']','').replace(\"'\",\"\"))\n",
        "\n",
        "    # Fazendo Download dos arquivos em PDF\n",
        "\n",
        "    download = browser.find_element_by_xpath('//*[@id=\"icon\"]/iron-icon')\n",
        "\n",
        "    download.click()\n",
        "\n",
        "  except:\n",
        "    print(url_list[i])\n",
        "    Url_error.append(url_list[i])\n",
        "\n",
        "  time.sleep(20)\n",
        "\n",
        "  # Transformando as páginas em jpg\n",
        "\n",
        "  # Pegando uma lista de todos os documentos presentes na pasta\n",
        "\n",
        "  arquivos = !ls '/gdrive/My Drive/PDFs_ANA'\n",
        "\n",
        "  # Arrumando a lista \n",
        "\n",
        "  lista_arquivo = []\n",
        "  for i in range(0,len(arquivos)):\n",
        "    result = arquivos[i].replace('[','').replace(']','').replace(\"'\",\"\").replace(',','').replace('\\t','').split('  ')\n",
        "    lista_arquivo.append(result)\n",
        " \n",
        "  lista_arquivo =[item for sublist in lista_arquivo for item in sublist]\n",
        "\n",
        "  pdf_list = [x for x in lista_arquivo if x.endswith(('PDF'))]\n",
        "\n",
        "  i = 0\n",
        "\n",
        "  for pdf in pdf_list:\n",
        "\n",
        "    pages = convert_from_path(pdf, 500)\n",
        "\n",
        "    for page in pages:\n",
        "      i = i+1\n",
        "      page.save('out'+str(i)+'.jpg', 'JPEG')\n",
        "\n",
        "  time.sleep(20)\n",
        "\n",
        "\n",
        "  # Pegando uma lista de todos os documentos presentes na pasta\n",
        "\n",
        "  arquivos = !ls '/gdrive/My Drive/PDFs_ANA'\n",
        "  lista = str(arquivos).replace('\\\\t',' ').split(' ')\n",
        "\n",
        "  # Arrumando a lista \n",
        "\n",
        "  lista_arquivo = []\n",
        "  for i in range(0,len(lista)):\n",
        "    result = lista[i].replace('[','').replace(']','').replace(\"'\",\"\").replace(',','')\n",
        "    lista_arquivo.append(result)\n",
        "\n",
        "  # Pegando apenas os arquivos de jpg\n",
        "\n",
        "  imagens_lista = [x for x in lista_arquivo if x.endswith(('jpg', 'png'))]\n",
        "  imagens_lista.sort()\n",
        "  \n",
        "  # Separando o conteudo textual presente nas imagens\n",
        "\n",
        "  temporario = []\n",
        "  texto = []\n",
        "  for i in range(0,len(imagens_lista)):\n",
        "\n",
        "    reader = easyocr.Reader(['pt'])\n",
        "    resultado = reader.readtext(imagens_lista[i])\n",
        "\n",
        "    # Formatando a parte textual \n",
        "\n",
        "    texto_parte = []\n",
        "    for i in range(0,len(resultado)):\n",
        "      result = str(resultado[i]).split(\"'\")[1].split(\"'\")[0]\n",
        "      texto_parte.append(result)\n",
        "\n",
        "      texto = []\n",
        "      texto.append(\" \".join(str(x) for x in texto_parte))\n",
        "\n",
        "    print(texto)\n",
        "\n",
        "    temporario.append([''.join(texto[:len(texto)])])\n",
        "\n",
        "    flat_list = [item for sublist in temporario for item in sublist]\n",
        "\n",
        "  texto_final.append(temporario)\n",
        "\n",
        "  # Removendo o conteudo presente no Drive\n",
        "\n",
        "  !rm ./*PDF\n",
        "  !rm ./*jpg\n",
        "\n",
        "  time.sleep(20)"
      ],
      "execution_count": null,
      "outputs": [
        {
          "output_type": "stream",
          "name": "stderr",
          "text": [
            "/usr/local/lib/python3.7/dist-packages/ipykernel_launcher.py:34: DeprecationWarning: use options instead of chrome_options\n"
          ]
        },
        {
          "output_type": "stream",
          "name": "stdout",
          "text": [
            "https://pergamum.anac.gov.br/arquivos/PD1962-0190.PDF\n",
            "['Quarta-feira 7 DIÂRIO  OFICIAL (Seção Parte I) Novembro de 1962 11585 955 4.956 = 4,992 4,,994 Retificação III Pesos Máxin%sde 4.995 5.300 5.305 ~ 5.306 Operação 6.307 5.308 ~ 5.309 ~ 5.310 EXPEDIENTE DO MINISTRO 5.311 5.313 ~ 5.314 ~ 5.315 Nia matéria em epígrafe, ` publicade 6.316 5.317 ~ 5.318 5.319 no Diário Oficial   de 22 de outubro 5.320 5.321 2 5.322 ~ 5.323 de 1962, às páginas números 11.088, Condlgões 5.324 \" 6.325 5.326 5.327 na 4v coluna Aeronave Na decolagem No pouso 5 328 \" 329 5 .330 5.,332 1) na 17v requerldas 6.333 5.334  5.335  5.336 Onde se lê: 5.,337 5.338 5 339 5.340 06 Jejanira Betista 5.341 5.342 5.343 5.275 Leia-se: 5 ,276 5.277 ~ 5.278  5,279 Dejalma\", 0.9985499235341558) Batista 5.280 5.281 5.282 5.283 2) na 19ª linha, 5.284 5.285 5.286 5,287 Onde se lê: Quilos Quilos 5.288-62) Orlando do Couto Leia-se: Lockheed Eec - Em 19.10.1962 Orlando ` Azevedo do Couto_ tra 188-A 41.256 43 .386 Na Jorge da Silva Przido Cap. Embandeiramen- aecolagem náutica Arm servindo no Parque de Aero- DIRETORIA DE AEROHAUTICA to automático de São Paulo; solicitando aplicasão do disposto no 8 único do CIVIL operante 789\", 0.54610276222229) ertigo 18 da Lei np 2.370, de 9.12.54 de   flap. 8o Tenente-Coronel Antonio Domin- PORTARIAS DE 23 DE AGOSTO No pouso: 100% gos Arquive-se, a vista do perecer DE 1962 de da Comissão de Promoções da Aero- máutica . A Oomissão de Promoções 0 Diretor-Geral de Aeronáutica Ci- da Aeronáutlca (Processo número vil, usando das atribuições que lhe GM-5.361-62) confere 0 Jtem IV da Portaria Minis- Observações: aeropôrto abaixo, com as seguintes Maria Thereza Brasil Machado terial nª 1.50O-GM4, de 16 de dezem- Os pesos   máximos, de decolagem características: Portella Professora de Ensino Su- bro de 1957, publicada no Diário Ofi - de pouso,_estabelecidos de acôrdo com e perior, solicitando em grau de re- cial de 20 do mesmo mês e ano, re- as condições  prescritas nesta Por I ~ Dados do Aeropôrto icu*SO, averbação do tempo em que solve: foram obtidos considerando pista taria\", 0.9973843046749634) (Ref. of n? 3.612, de 16 de   outubro estêve colaborando na Foreign Eco- Nª 179 Considerar| homologado e sêca, vento nulo e temperatura de 1961, da ENGAER) nom4c   Administration E U s Pw- aberto 80 tráfego aéreo públíco, drão para 0 aeroporto. pa- chasing Comission Indeferido_ à aeroporto abaixo com 88 seguintes Para condições ` dlferentes das Estado de ~ Minas Gerals . viste ão parecer da Diretoría do Pes- caracterís;lcas: ma enunciadas, acl- Município de Belo Horizonte. soal da Aeronáutica _ À Diretoria do I Dados do Aeroporto: correções deverão ser feitas Aeropôrto de Belo Horizonte Pessoal da Aeronáutica (Processo (Ref _ Tf. nª 3.612, de 16-10-61, da ração, nos pesos   máximos de ope- Latitude de  S-\", 0.29971361790232914) n? GM-5.274-62) ENG) constantes desta Portaria, de Longitude 430 \", 0.9854533672332764) W Affonso Flerreira funclonário do Estado do Ceará- acordo com 0 Manual de Vôo da aera- Número da písta de pouso 13/31_ Ministério da Aeronáutica- solicitan- \", 0.7634677388638135) de Fortaleza nave. Os Altitude 789m- do gratificação de risco de vide Oi Município de Fortaleza - leciãos mfesnos operacionais; estabe- Dlmensões 1.709,5 X 45m. saúde Indeferido_ à vista do pare- Latitude 030 5\", 0.3898485004901886) nesta Portaria, deverão ser Natureza do piso Concreto cl- cer da Diretoria do Pessoal da Aero- sempre_atualizados; de acôrdo com as mento . náutica- 4 Diretoria do Pessoal da Longitude 380 W_\", 0.5414699224783879) instruções da Diretoria de Rotas Aeronáutice (Processo número Número da pista de pouso 12/30 Aéreas _ II ~ Minimos Operacionais GM-5.,267-62) Altitude 25 m As correções serão da responsabi - Dimensões 2.139 X 5Om lidade d0 operador (Ref. 1 d. nª 016-ATS de 8 de Ju- Dm 22.10.1962 Natureza do piso Concreto al - Nª 181 Considerar homologado lho de 1961, da ROTAER) Telemaco Irajá Chiappetta de Bem fálticc aberto 80 tráfego aéreo, público, 0 aec Condições VFR: 3O0m X 5km 3S-Q-AT-VI, servindo na Base II Mínimos Opéracionais: ropôrto abaixo; com 85   seguintes ca- ções IFR:\", 0.5047259460822974) acôrdo com 9 CAI Aérea de Canoas, solicitando paga- (Ref MD nª 16/ATS, de 8-7-61, da ractersticas: em vigor_ mnto da greiificação de Nivel Uni  Rotaer) versitário Indeferido por falta de Condições VFR: 300 m X 5 km I Dados do Aeropôrto III Pesos Máximos de Operação autparo legal\" (Processo número- Condições IFR: Acôrdo com C\", 0.6162689034596162) (Ref . m.d n? 350, de 24-7-62, da GM-5.067-62) A I. em vigor_ ENGAER) Aeronave Lockheed Electra 188-A Na decolagem 50.575 kg No III Pesos Máxi mos de Operação Localidade Distrito Federal pouso 43.386 kg Condições re- Aeroporto de Brasília. queridas Na decolagem; emban- Latitude 150 \", 0.9995247749471324) 8_ deiramento automático operante e Longitude \", 0.5297816442033044) W 789 de flap  No pouso: 1009 de Condições Número da pista de pouso 10/28_ Aercnave Na decolagem No pouso Altitude 1.059m requeridas Dimensões 2.985 x 45m Obesrvações: Os pesos máximos, Natureza do piso Concreto as- de decclagem e de pouso, estabelecidos fáltico de acôrdo com as condições prescritas Quilos Quilos Declividade e sentido \" 19 ~ 10/28. nesta Portaria, foram obtidos consi- derando pista sêca, vento nulo e tem- Iockheed Elec - II Mínimos Operacionais peratura  padrão para 0 aeropôrto _ tra 188-A 51.256 43.386 Na decolagem- (Ref m.d. n? Para condições diferentes das aci- Embandeiramen- 16/ATS, de 8-7-62, da ma enunciadas, deverão ser feitas to automático ROTAER) correções nos pesos máximos de ope- operante e 789 Condíções: VFR: 300m X 5km ração, constantes desta Portaria, de de flap. Condições  IFR: acôrdo com a CAI acôrdo com Manual de Vôo da No pouso: 1009 em   vigor aeronave de III Pesos Máximos de Operação Aeronave Lockheed Electra 188-A Os níninos operacionais esta- Na decolagem 51.256 kg No pouso /belzcidos nesta Portaria, deverão seI Observações PORTARIA Nª DE 23 DE 43.386 kg Condições   requeridàs sempre atualizados de acôrdo com AGOSTO DE 1962 Na decolagem: embandeiramento au- as instruções da Diretoria de Rotas Os pesos   máximos, de decolagem tomático operante e 78% de flap_ Aéreas . de pouso, estabelécidos de acôrdo com Nª 186 Considerar homologado e No pouco: 1009 de flap. As correçõcs   serão da responsa- as condições prescrítas nesta Porta- aberto 90 tráfego aéreo, público, bilidade do operador  Maj. Brig  aeroporto abaixo, com as seguintes Observações: Os pªsos máximos de do Ar Dario Cavalcanti de Azan- ria, foram obtidas considerando pis - características: decolagem e de pouso; estabelec.dos ba;a Diretor-Geral de Aeronáuti- ta sêca,. vento nulo e temperatura I Dados do Aeroporto: de acôrdo com as condições prescritas ca Civil drão para 0 aeroporto _ (Ref 0 \", 0.6827001023991961) 3.612, de 16-10-61, da nesta Portaria   foram obtidos consi- ENGAER) derando plsta sêca, vento nulo e tem- NP 183 Ccnsiderar homologa lo Para   condições diferentes das aci- Estado do Rio Grande do Norte peratura padrão para 0 aeropôrto aberta a0 tráfego aéreo, público ma enunciadas, deverão ser feitas Município de Natal Para condições diferentes das aeroparto abaixo, com as   seguintcs correções nos pesos máximos de. ope- Aeroporto de Natal. acima enunciadas, deverão ser  feitas características ração, constantes desta Portaria; de Latitude \", 0.30425818254308035) 5 correções nos pesos   máximps de ope- I Dados do Aeroporto: (Ref DC - acôrdo com 0 Manual de Vôo da aero- Longitude 350 \", 0.9947662815860032) W ração, constant ;  desta Portaria de nave_ Números das pistas de pouso acôrdo com 0 Manual de Vôo da ae- 492-61) 12/30 e 16/34 ronave Estad: de São Paulo Os minimos operacionals, estabele- Altitude 49 mm c de Campinas . cidos nesta Portarla, deverão ser sem- Dimensóes 12/30: 1.828,80 x 61m Os mínimos operaciona:s estabe- Aercporto de Canpinas Viraoa- pre atualizados de acôrdo com as ins- 16/34: 2.300 x 61 m lecidos nesta Portaria, deverão ser pos) truções da Diretoria de Rotas  Aéreas. Natureza dos pisos Asfalto semp:e atualizados, de acôrdo com as Iatitude 230 01 ~ 5  As correções serão da   responsabili - II Mínimos Operacionals: instruções da Diretoria  de Rotas Aé: Longituae 470 08 W dade dp operador (Ref m _ a nª 016/ATS, de 8-7-61, reas Número da pisia de pouso 1.32 da ROTAER) As correções   serão da   responsa- Altitude 650 m Major-Brlgadeiro-do-Ar , Dario Ca- Condições  VFR: 300 m x 5 km_ bilidade do operador Dimensões 3 Uoo X 45 m . valcanti de Azambuja, Diretor-Geral Condições IFR: acôrdo com a CAI N? 182 Considerar  homologado Natureza do piso ~ Concre*o de de Aeronáutica Civil em vigor aberto a0 tráfego aéreo, público; cinento and\", 0.9876249039587544) iínha,\", 0.25315534268861367) Esp- flap. flap flap. 180, pa -']\n",
            "['11586 2 0\", 0.08436656380295773) oficlaL {Seçã Novenbro de 1962 Dcclividu de € sent:do 8,8* AJtitude  8 E1 Longitudle = 24\" Lonsillide 51\" 18\\\\ 14-32 _ Dinensôes 1 302- X 42 m Nvxn: !:. (ic ?rus? 18-36 Yinero da pi,ta de pollso 10-23- II Minimos Gjerc{onis (Re- Natueza do piso cui(e:0_ 14-32 Altiiude 3111_ ferentc 1n1 d 1}\" Ici-a[S, de 11 de II Minimos   operaci{vua!s Alvizuc ~ 1` 22 lnensÕt $ 2.C05,45 x 4m março de 1861 da 22cla2r (Ref m _ d \", 0.4980620282338784) 101-%1S, de =\", 0.15723911820193331) 7 2 ?78x602\" xauleza co ,J\", 0.3960626945808903) c1- Concl:ções VFR 3f J % 5 kw _ 11.3.61 da Rotaer 14-32:2n*4:2: mnclo _ Condicnes IFR: aàrdo c_m 9 CAI Condições VFR; 360 41 x 5 kmn *\", 0.1555197582875186) {iu piso; mislo fi-sve! be- Ii Minimos   operacionais ei vjsur Condições IFR: àsô\"ílo C(1i a CAI tunin,*\" e{2 vigor II {j:0çs Operauinnais (Bef MD 4G 16-A1S. de 8 de JW:Iu III FêsQ? 721/J inziow dt  Operação: III Pesos 9920 vin;1? d? ;io\", 0.27456391734901964) (Ref ArIJ :1 16-41;, ct 06.07.81, da de 1ç5l, da Rotaer) Keron?ve hec\", 0.36345629513481104) Eler rica 183-A : Aeronave Locktecd Cetra Rot: er Na decolagem 5:.256 kg _ 188-A ;cs\", 0.1895509148704185) ÇfR: S ua\"Skt:  Co::l[c: \"FR: 330911 x 5 km No 9o4s? 43.BS; k8 Na egem\", 0.40357335348876694) 48 985 52 , Corairns I[R: Acà\"du Cu:l a CAI Cpt:icues IFR: Acoro Co4 4 C_ Condlicá?s requerijas No 38.\"55 I? _ em vigor A I. enz Na decolaven: e:batdeiramanto Nonaooss requer:a5s X: {ifcol}- DI Prsc nasin,os dc  opcraçao IlI ~ Pesi\\\\ aulomático cperante e 78 = de gen: en a\", 0.33404386916178136) icu\", 0.07154118320380394) ;\", 0.13070496101461596) Ipckleed Is;ecwra No po{; @: 10)< 40 operante 78% de flap. 188-A ~ Xa devola?ew 51.258 Ka . Ae:onfv? Locklc? Elertra 188-A No pouso 100? d? fiap _ No p io 43 .383 kg conclições xa dcvsiasen 5! . 256 i:g Ko Observarârs Osbervações Os peç1s máximos;, requerici#s N: ár\"olagcn, PI]V2n)- pouso 43.386 ks Condliçõrs reql€- Os pesos nxiof , de decolagem e de   decolagem e de pouso. estabeleci- {leiramento automáticp uprrenre € ridas : Na dscolagen: embaneeira- do pouso esfabelecidos de acôrdp dos de acôrdo com as condiche: pres - 78% de flap No pOªs>: 100- d2 flap mcnto automá:ivo cuorante e \", 0.22079936880058307) de com as rondicães prescritas nesta critas nesta Portarla. fors/n ob;idos Ohserraches Q: p:os n  flap\", 0.5366366162930001) No p,ªusi>: 0  de flap Portarla, foram btidos cons-de:an- considerando pista sêra, vpnto nulo e decolagem 0 ce pOtíso estlpiecidos Obserraçôes: 2 1p*0f Wa% n: de do   pista sêcª. vento nulo e temncera- temperatura padrãv para 0 acropor- de acô\"do con as condiçôes prescritas agem\", 0.8298604772352131) e abclecicos de\", 0.7052493234735552) tura padrão para- 0 aeroporto to nesta Pc\"avic fsram obi;dus conside- acurco {0\" {1 cundliçuís D\" 1,:as Para condirães diterentes das aci- Para condições diferentes das acima 0 ,\", 0.27453860798180196) V - -to ml) 2 tempe- nesta Portar:a, foram obtidos Cuzsi- m9 enunciadas, deverso ser fejlas enunciadas, deverão Sel fe.ias corre- ratura padrão Para c ae:opurto :erando pista seca, veIto lo €\", 0.3241363018082148) {Pmr- correções nas pevo: máximos de ope- ções nos pesos max;ras de ona:scâo, Pa\"a cordicues diferenles d:s pcratura padráo pa 0 p9rLC\", 0.18391684517253326) ração, constantes des\" 3 Portaria; de constantes desta Po:tam 1  de acâ\"do acim. c\"lnfincas deverào ser \", 0.31111011601445976) Para condiçôes dfferentes das acIma acôrdo Co12] 0 vanua: de VàJ da 83- com 0 Manual de V;o cla aavorave corfct;(: 1105 pesos méxinos de ope- cnunciecas der eráo SCI feua: € \"te- ronave_ Os mínimas oper )cionais , 43\"&bele- constenies desta Portaria, de çJgs nos prs{s nlúximos d2 \"p#:.Ç52 Os minimas opfrac:onais. e-\", 0.9125913079554806) cldos nesta Portaria devrrão sa\" spm- acôrcu coll 0 Malnal de Võo da aerC- constantes de;.a Portarta. de acôrão cidos nesta Porlaria deverão se; pre atualizados, de arârda com a5 ins- nave_ comn 0 M?nua] de Vôo da aerunave} sempre izadcs.\", 0.5340123521514409) de acôrdo cmn trucões cia Diretoria dª R 1as Apreas. O; 21íni7ns\", 0.27429664926017366) { onais, estabc-\", 0.5200138361497323) Os minim X operacio:is, eci-\", 0.18021450322410912) @s instruçúes da Diretoria de Rotas As correçbes serão cla restx)nsabf- lecidos nesta Portaria, deve:ão ser dos nesta Poriar:a, deverã set sfm- Aéreas  lidade do operador sempre at: vlizaclas_ arôrdo\", 0.8347772758353168) com as pre atuellvadis. Ce acôrclo cun as ins- inst (1àÀ Diretoria de Rolas Ac - {ruções da Diretoria de Rutals Aéreas As correçães Sprão da resprnsahlj - Nª   186 Considerar hon alogado e rees As correções serão dà li-\", 0.3804623870774599) dade do do: aberto 90 tráfego aé0#0 pfb:co, 0 da responsabi-\", 0.13759140016404042) dad co operador _ N? 184 Coxsueras hominlogado aercporto abaixo, cou Hs seguintes lldade do ope:ador_ No 190 Ceusiderar honoluxado 6 aherto 30 (ráfvgç #erco. púhlico. carncterísticas: houcloado aberto à0 tráfeo aéreo, púbiico, aeroporto ahaixo, \", 0.052313968539237976) as seguintds I Dados do \\\\ Nr 18S Gonsidural e aeropo\"to alaixo, conl 45 seguintes (Ref Of_ n? 3.612, dc 16 8 61 da aherio a0 trâfeeo aéveo; público; 0 catacteríslicas: características: ENG .) rcporio #baiso; Con as sezuintes c?rac- I Dados do Ae\"onc\"to (Ref Estado da Bahia _ terí: ticas 1 ~ Dados do ueroporto of n9 3.612, de 16-8-61: ca ENGAER) Mun:cípio de Salrador I Bados do Aeroport€ Estedo do Espi\"itc Sarsto. Aeroporto de Sal-vdlr . (Ief . Of . 3.612, ce 16 de   outubro e Mwícíp:o de Vitósi? Latitude 12 \", 0.12258202462416669) 5 Ref_\", 0.5958627376512424) DC-4.492-61) 1961 . da ENG .) Aeroporto de Vitórf: Longitude 380 \", 0.9362692832946777) V Estacio cla Gunabara @xtade do A/aft2as _ Latitude 201 \", 0.9997467264007639) s Números das pis;as C( iso\", 0.4659463217692425) Localldade= Río de Janeíro- Município de Manaus Longitude 404 \", 0.9756546878140361) W . 10-28 e 16-84- Acruporic do  Galejo_ Aeroporto cle Manaus_ sfa\", 0.21811578976315626) de pouso ~ 5  Allitude 6 In Latitude: 22?  $\", 0.9913257348941878) Lalitue 038 \", 0.9994412953804445) S Altitude 4 n: Dimensões Jn-28;1 302 5 45 m \" Ion?ún:p 43\" 15 W 14-32 _ Longitude 600 01 ~ IP_ Nxero (: pistu bio:\", 0.4258025884807771) Dimensies 1.591 : 45 m _ 16-34:] .524 { 45 717 Al:itne: 6; !1 Núnero cla pis:a cle poILSO ~ 08-*6 Matureza do Concretu ci - Natureza do pisso corgretc 0S~ Dincnsjes \", 0.3976152806646633) Allitude 83m mento tico.\", 0.2234541626699279) Naturc?i mento.\", 0.41986711393580395) I}:n)en:;es 2 . .00 X 451n II Míninnc oneracionais- II Míninos O.f1rf-inwois Decliv:dade € scntido: 0,0 14-82 Natuez: ão piso asfalto . (Ref m ; d 0;6 4T5 de 8 dc Ju - (Ref_ MD n? 16-ats, dê 8.7 61_ I Mín:mos oneracionais . Jho de 1951 da ROTAER) da Rotaer (R?f_ JíD 41-ATS, de 20.10.59, (la II  Hinimos oneraclonais Condlçics VTlr: 301} X? xX 5 kg . Condições VFR : 340 71 K 5 ku _ Rotaer) iR#f. VD n ? 16-4 TS. de 8 de Julho Condições IFR: acô:co com a CAI Conticôes IFR: Acú:. (f n? 2 Condicic: VFR: 30om . x5km  de 452,\", 0.49456601970376757) d# Rotaer , em vigor C.A.I. em vigor _ Condu 3cs IFI?: Acàrdo com a CAI III Pesos 1njvin;n dr owpvacão Condiçõe: VFR 3002; X 5 KM III P[ªos máx:ms H? Onet?,+n: Aeronaves Loci:/ I:(d Eletra em vigur Condicôes IFR: útío\", 0.08570278993690585) cutn 2 C Aeronave I.ortheed Electra 1884. 188A _ III P{sos Maxinos de Operação A 1 et TIsor Na decolng\"m 51 256  kg_ Na decolnrem P:s%? 10-28 Aer0na ve Lockheed Elcclra No po!so 43 236 k? 188-A Na agem\", 0.768585544229227) 51.256kg III Pês mGrill : de opcraçúo 51.256 kg. ~ Pista 16-34 ~ 50.350 kg. Xo Douec; 43 .386k\" Condlcões re- Condiçães reçueri/a* em?a ncieira- Avrona;@ ~ Lor:khú\"d Elatra 188-4 Na decolagan cnhande;ramento No poUSO Pista 10-28 43.388 querit\"_ X { colagem:\", 0.6978563643577658)  Na dcevle?em 51 256 ks No altomático oppr?1tc 78 ap\", 0.6220770876533327) kg Pista 16-34 \", 0.3076110166664197) 2_\", 0.2152493263651466) 2:\", 0.4423201195922276) {; Juron:fticc operante e 78 de Isu 43 No pouso: 1c0\" de fla?. Condições   requcrida; N: deco- flap- Ao pouso 1007 de flap po` 386 Ks Condições re- Iagem: embandrirnm;nto o:ático\", 0.2709514314376679) Obw\";vêçô\"s: Os pesOs máximas, de  quericas- Na decolugem : embandeira operante e 789 de fl;r drcolaeolu e de pDilsO, estalelecidos nento automátivu operanle e 78ç de Obscrvacâes: No poLlso: 100\" de  flap. de acü:.o cfxul a; condicães prescritas No pou,3: 190 de flap_ Os pesos   náximos de decolarann € nesta Poriaria  foram obtidos consice- Cbserraçoes: Os pêsOS   máximos, de do pollso . eslahele(iclos d? ac;-do Observacôes Os De:u: nisimos rando vlsta seca, venlo nulo e tempe- decslazem e (lf tsu. cstabelecidos dp com {5 contico?s prescrilas nesta de decolegemn e de pí1wso Ascabelecí- ralura p:drâu para 0 aeroporto_ acoxdo C01?2 8s toncilçoes prescjitas Portaria, fovan obticos considetan- dos de Bcôrdo cOill as coniçí es pres- Para condicôes diferentes {l4s nesta Pvaria fo\"amn nhticau conside_ do pista ssca, vento nulo € tempera- cri:as nesta Portara, f\"ia: {hfdoe acin9 e\"lin:riadas devprãc ser feitas raHdo rista sàc2. Felf, nllo e tem tura   padrão para 0 aeropovto consldewando písla sí z2 vcufo nulo e corrcções llc pes(s máxinos de  -\", 0.6499815329192753) 9p\"at0:? pverar p::\": { aeroporto Para condições diferentes das acl- tenperatura padrão p2( 0 80 portc\", 0.6942656824039991) racio. CG? ?nfes desta Portare , de Para condiri: das ^\", 0.7152935677851939) ma enunciad:s, deverão ser feitas Para condiçôes dife\"n{€; @:. acima 2côrdo coxn 0 Maval de Fôo da 90~ ~nuciadas {evsrac \", 0.20886783601865372) feffas Corre_ correcões n0s pp:os máximos de Ope- enunciadas_ deverão SF\" feifas corre ronsTE ?ões H}7; pe:9\" :Ay:\", 0.043684524153288044) 1; àr oppraça ração constantes desta Portaria_ de ções nas pesos mnáxin os de OD,fração O: mnín:mus operaciona{< (c:nbe- antes\", 0.7006312211410656) dc[2 Por de Pcô:ro acordo com 0 Manlisl de Vôo d2 ae- constantes desta Poarin rle ªrôrdo Jccidos ;( Po:aria, deverão êcr Co2} 0 Manva] cle VÕ{ ria serorave ronave comn 0 Manual de F;o d; eeronave Seynorf ? tua)zaclos de arôrdo ccn1 as Os nini:os O?frafvnai6 sstabele_ Os mlnimos oreraciona:s estahele- Os míninos oper? ?nn2i2 fs;ahele- instuçõcs da Direioiia de Rotas Aé- cidas nesta Portaria. tieveiâc ser sem- cldos nesla Portaria deverão Ser cidos resta Portaria_ [\\\\ 1e sem- 128s pre atualiza-oc cle 3  as {n:- sempre atualizados_ de acôrdo com1 pre atualizados. de acârrd n\", 0.1571328043937683) as 4s correcães se1ão (2 respasa - trucões da Diretoria de Rolas Aéreas - 85 Instruções da Diretoria de Rotas instruções da Direto\"1 de P(as hilicade\", 0.852839461850747) operador. As correçôes Scrão de responsabíli- Aéreas reas_ Gade do operador As correçbes serão da   responsabff - As correções se1ão da responsahl- MTY 189 Considerar homologado X? lidade do operador _ crio\", 0.5302136408846839) 30 trafego aéreo público, 192 Ccnsiterar homologado dade do operador {2ro[::  pf;iso, coi as sesuittes ca- c aberto ao trálego aéreo, público, NP 185 Consicle\"ar hrnolocado ND 187 Conside? \" hono!ogado e ractersacs: aeroporto a baixo; com 35 seguintes aberto 80 tráfero #FtFo público; aberto 90 tráfego à@\"Pr p#blico, caracceristicas - #(0n? 9: seguintes Aeroporto abaixo com 25 seruintes 1 nadGs ão aeroparlo aeroporto abaixo; carâcterísticas: 1 Dadns do Aeroporto características !Fef . OI n9 3.612_ ce 16 de agisto 1 Dados do Aer ,0 I Dados do Af-(povto cc 1951 da EG.) (Ref DC-2.647-61) DC-2.315-61 (Ref Of . n9 3.812 de 16-?-t da (Ref Estad, da #uanahara. ) Eslado do R:o Grandc do Sul . Elado de São Paulo iocondntde de Santos Dunont. Estado de Pernamh c MunicÍpio de Pôrto Ale?:e Municipio\", 0.7160901109731845) de São Paulo Acroporto 22? 544 8 Munlcípio de Recitr seropccto de Pô:to Alogre (Salsg _ Aeronorto de Sã0 Paulo (Congo. Ltabtude- \" 439  W _\", 0.3854862835427703) Aeroporto de Recife do Pílh!o) nhas) \"ahan d Longltude de pista de pouso 02-20? Latltude:  09 5 . GRtilude  5. |\", 0.2863650082818276) Latitude:  ,€,\", 0.33869309486210447) piso Yco) fªap flap_ ração, \"uções opefâ 44- pisv J]0 flap 4ia_ Aé- do\", 0.6654962717109424) Eng']\n",
            "['Quarta-feira 7 DIaRIO OFICIAL (Seção Parte 1) Novembro de 1962 11587 Longitude: 469 \", 0.8672228943811944) W aeroporto . ebalxo, Com 88 ntes\", 0.5419161483605426) acórdo con 0 Mapual de V8o da Em 25 de setembro de 1962 Número da  pista de pouso: 18-34 . características; eeronave Paraense Trensportes Aéreog Llmt Alttude: 795 M Dados do   Aeroporto Os mnin:2125   operacionai esta - tada,  nequerendo matrícula da aero- Dlmensbes 1.887x49 n , belacidos neste Purteria; deverão Ber nave PP-BIP. Deferido. DC nú- Natureze do piso; concreto, (Ref, Of , n? 3.612, de 16 de outubro senipre atuallsadcs, de acdrdo CEm mero 8.597-62, Decllvldade sentldo: 1,3 por cen - do 1961, da ENG) as ins ruçúz} da Dlreroria de Rotas to 16/34 , Aéreas Em 16 de outubro de 1883 Estazo do Pará: As sccreçies  serio de respon- II Mínímos operacionais Município de Eelém sabllldade do operudor Major- Taxl-Aéreo Llder Ltda , requerenao (Ref MD n? 16/ATS, de 8 de Aeroporto de Belem . Brfg do Ar Dario Cavelcanli de matr {cula da aeronsve PT-BSX De- julho de   1561, da Rotaer) Latltude: 01P \", 0.9999248429155644) 8 Azuntaja Direts:-Ceral Ce Aero- ferido. DC . n? 4.824- Longitude: 48 \", 0.9999852713542337) W náutlca Civil . Taxi-Aéreo Llder Ltda , requerendo Cond:ções VTR: m { B kn, Números das pistas de pCusu:-02,20 natrícula  da Beronave PI-BSV. De- Condiçocs IFR: Acórdo con 06/24 DESPACHOS DO DIRETOR ferido: DC . n? 825-62. C.A.I. em vlgor. Atitude: 14 n D4 DIVIE4O DS OPERA ÇoES Em 24 de setembro de 1962 Dimensóes: III Pesos márimos  operaçâo\", 0.45787527720995436) 02/20 : 1829x45m -08,24:1825x45m. Jouo Ribelro de Souze Fllho, re- Aeronave: Lockheed Eletra 1884 Natureza do  piso; asfalto En 3 de setembro de 1962 querendo matrícule da aeronave PT- Ne decolagem: 60.120 No pou - Aprovando parecer da Dívisão de BSN, Defc-ido. DC 2? 4,427-82- co: 43.388  kg Condíçoes   requeridas: II s\", 0.478644262001357) Opcraçoes para 8 matrícula da aero - En 19 de cetembro de 1982 Na dccolagem; embandelramento 8u- (Ref. MD nª 18-ATS, de 8 de julho nave PP-HLB, em ncme da (DAC) tomático cperante e 78 % de flap. de 1061, da Rotaer) conflada 80 Aercclube de Aqudauena Jaú Transpcrtadora Aéree Ltda No pouso: 100 % de Ilap Do np 1,423-62_ regiíerendo mntrfcula da acronave Condlçóes VFR: 309mxs km Irineu Morlm e Raul MIgnone. re- PT-BRL Deferido DC . 2? 2.563-€2 Observações Ccndiçoes IFR: Acôrdo com querendo transferência de proprle - Ein 27 de setembro de 1832 Os pesos máximos, de decolagem C.A.I. em vigor , dade e mudancas de categorta da \", 0.642876831755833) de pouso, estabelecidos de acordo III Pesos macimnos de   operação roneve PT BJX, Deferído. DC, nú - Paraense Transportes Aércos $ mero 7.547-62. requerendo matrícula da aeronave com as cond:çoes prescritas nesta Aeronave: Lockheed Eletra 188A PP-BTQ, Deferido. DO. n\" 10.075, Porterla, foram obtidog consideran- Na decolagem 1 51.256 kg No pou - irineu Morim € Rªul Mignone, de- de 1B61, do plsta   sêca, vento nulo tempe- s0; 43.366 kg Conaiçóes requeridas: terminando 8 autorizaçáo de Taxl - rature padrão para 0 aeroporto, Nedecolagem embandeiramento Aéreo con arcnive Pr-BJX De- Em 1a de outubro de 1932 Pare condiçóes diferentes das tomático operante e 78;3 Ce flap. 94- fertdo. DC n? 75.46-82 Mirlo dos   Santos, requerendo 3 acima\", 0.5802427812599545) enunciadas, deverão ser {eltas No pouso: 100 de fap. Em 5  de setembro de 1952 tricula da aercnave PI-B53. Defe - correções nos pesos máxlmos de cpe- rido. DC. n? 4,670-62 ração; constanles desta   Portaria, de Observações Gerhard Richter e Dante Pazzanese, acordo com 0 Manual de Vio da Os pesss determinando 0 cancelamento de Em 19 de outubro de  1932 aeronave, náximcs, Ce decolagem Taxí-Aéreo com aeronere Pr-BPC e de pousu, esrabelecldos de acôrdo Deferido. DC nª 12.212-81. Meuríclo   Franclsco Verdler reque Os mínaics operaclonals, esta - com a8 condlções prescr:tas neste rendo matrícule da aeronave PI- belecldos nesta Portaria, deverão ser Porterla, foram obtidas conslderan- Em 13 de zetembro de 1962 BRN , Deferldo. DC . n? 2,953-62. Bempre etualzedos de acordo com do pista sêc2, vento nulo € tempe- João Benno Kopp, requerendo ma- Em 29 de setcmbro de 1922 as Instruçóes da Dlre:orie de Rotes retura padrão para Beroporto. tricula da acronave PT-BSR. Defe - Aéreas Pare ccndlçoes diferentes das rido, DC , n? 4 ,635-82, Jaú Transportadora Aérea Llmi- As correçies   serão da respon- aclme enunciadas, deverão Jer Ieltas tada, requerendo matrícule ds 12*0- sabllldade do operador. correçÕes nos pesos máxlmes de cpe- Em 14 de setembro de 1962 nave PT-BRJ . Deferldo. DC Ú- NP 182 Considerar homologado ração, constantes desta Pcrtaria, de Miguel José Vita, requerendo  auto- mero 2.426-62. 0 aberto a0 trafego aéreo, público, ecordo coin Manual ce Vôo da rização para Iranslado de imparta - Én 5 de outubro de 1962 aeroporto abaixo, con 85 segulntes Beronave_ ção da eeronave PT-BUI Deferido. Centrals Elétricas de Orubupunga característícas: Os mínIn1os operacionals; esta- DC nª 8.295-62. 5 A . Celusa\", 0.8820889977951446) requerendo matri- 1 Dacos do Aeroporto betecldos nesta   Portarla, deverão Ser Superintendencia do Plano de Va - cule de aeronave PT-BSO. Deferido. sempre atualizados de ecôrdo com DC , n? 4.676-82. 8 (Ref . Of . \", 0.276953783362188) 3.832, Ce 18 de outu - a5 instruções da D:retoria de Rotes lorização Econômice da Região Fron- bro de 1901, da ENG;) Aérens , telra Sudoeste do País, requerendo Em 11 de   outubro de 1952 As correções serão da respon- transferêncla de proprtedade da ae - Ovídlo Guedes Cavalcente reques Estado de Santa Catazína . sabIlidade do operador . ronave PP-FEP Deferldo. DC . nú- rendo matrícula da aeronave PP-DLNY, Municipio de Florianópolls. mero 8.573-62. Deferldo. DC, n? 8.824-82, Aeroporto de Moriagopolis . Nv 194 Considcrar   homologado Em 18 de setembro de 1962 1 Latltude: 270 \", 0.4778822617370916) 8 aberto 40 aéreo, públlco, Ein 24de setembro de 1982 Longitude: 400 \", 0.9999854090049941) W aeroporto abaixo, com 8 seguin - Jaú Transportadore Aérea Ltda. Divisâo Nümerc da pisza de  pouso: 01/19 . caracteristicas: requerendo matrícule da aeronave Aprovando perecer da de Dimensões : 1.500 X 45,50m PT-BRL. Deferido. DC nª 2.563-62 Operaçóes para matricula da aero- Natureza do piso: concreto cl- Dados do Aeroporto Panair do Brasil 8 A. requerendo nave PP-HLO, em pome da (DaC) mento. (Ref . CATAE 1960) matrícula das aeronaves PP-RDU conflada a0 Aeroclube de Pelutas. Alttude: 6m PP-PDV e PP-PDX Defcrldo. DC . Deferldo. DC . nª 8,174-62. Estado do Paraná_ Ins, 5,255-62, 6.003-62 e 6.002-62. Em 18 de outubro de 1932 II Minamos opztacionais Munlcip{o de Curitiba Aeroporto de Curitiba Em 10 de outubro de 1962 Sebastião Ferraz Camargo Pen - 4 (Ref MD n? 16-ATS, de 8 de Julho Lattude; 25* \", 0.9698653726342323) 8 Fernanda  Perelra Sampalo; reque- teado, requerendo matrícula da ae1o: de 2981, da Rotaer) Longltude 490 \", 0.9934582555354368) W rendo transferencia de propriedade nave PI-BIJ Deferido. DC . Gú- Condiçoes \"FR: 30011 X 5 kmn Númercs das plstas de pouso: 10,28 da aeronave PP-RQM. Deferido. DC mero 5.361-62. Cond:çôes IFR: Acôrdo com 0 15/33 n? 6,812-62. Em 17 de outubro de 1932 C.A.I. Cin {rg6: Altitude; BIO m. 8 A. Emprésa de Vlação Aérea requerendo 8 III Pezos mnaxivos de   operaçáo Dlmcnsoes Rlo Grandense Varig requerendo Baptista Keutenedjlan, Aeronave Lockheed Eletra 188A 10/28:1803x457-~15/33 : 1800x45m - autorização para Transiaáo d Impor- matricula da eeronave PT-BSD. De- Na decolagemn: 51,256 kg . No pou - Natureza do piso: asfalto taçáo da aeronave PP-VJO. Defe- ferido. DC. D? 4,058-62, g S0; 43.386 kg Condiçbes   requeridas: Decilrldade longitudinal: 0,72 %. rldo. DC nª  6.518-62. Em 1 de outubro de 1982 Na decolagem embandeiramento au- II 7 Minlmosoperacionaus Sadia: 8 A Trensportes Atreos , Oarlos Eduardo Pinto Rochelle re- tomático cperante e 78 % de flap. requerendo transferência de proprie- No pouso: 100 % de flap . (Ref. MD n? 18/AIS; de 8 de Julho dade, mudanças de marcas decate- querendo transferencla de proprie- de 1961) gorla aeronave PP-AST Deferído dade da eeronave PT-BFO. Dcferldo. Obcervaçóes Do np 46 .08-82. DO nP 3.971-62, g 0s pescs n;ixinos, de decolagem Condiçóes Condiçoes VFR: FRi: 390c8 Acórdo x \" &on km Em 20 de setembro de 1962 Em 28 de selembro de 1962 e de ecidos\", 0.7542597188652486) de acordo C.AI. en vigor . Emprêsa Construtore Brasil La- com as çãas\", 0.25126254236873186) prescritas Desta João   Plnhelro,   requerendo transfe- de Minas Gerals, reguerendo Portarla, forani obtidos consideran- II Pesos márimos de operaçêo rêncla de propriedace da aeronave voura 8 do pista sêca. vento nulo e tempe- Aeronave: Lockheed Eletra 188A de PI-APY, Deferido. DC nv 6.350, tranglerencla de B:fertad g d9 rú: ae\" ratura padrão . para Beroporto. Na decolagem; 49;440 kg. No pou- de   1962. ronave PT-AZG. Dzferldo, < Para condiçóes diferentes das s0: 43.386 kg Condições   requeridas mero 6,879-82. aclma eniinciadas, deverão ser feltas Na   decolagem embandeiramento 8u - Em 1 de outubro de 1982 Em 20 de sctembro de 1262 5 correçõss nas pesos máxinos de ope- tomático operante 8 7896 de . flap José Candldo de lerppuledadeo requerendo Joao Pinhelro veguerendo trensfe- ração constantes desta   Portarla, de No pouso: 1oo % de ` flap. transferencía de da ae- réncia de proprledade da acronave acordo com 0 Manual de Vôo da Observaçóes ronave PT-AEP , Deferido. DC. nú - PT-APY Deferido . DC . rúme:o Beronave mcro 2.094-82, 5.350-62 Os mínlmos operaclonais, este - Os pesas máximos, de decolagem Em 20 de sctembro de 1962 Menegusso  & Cla Lida requerens , belecidos nesta Pcrtaría deverão ser com De 20 pousO, cond:çóes eslabelecldos de acôrdo nesta Frlestel Bianchl] requerando ma- do transferenc:9 de dade\", 0.4389307233311379) da sempre atualjzados, de acbrdo con Portarle, foram Sbtidoscrcozsi conslderan - trIcula da aeronave PI-BRU Defe- aeronave PT-BPE . Dªferldo , DC 08 instruçoes da Diretoría de Rotas do   plsta seca, vento nulo tempe- rido. DC 1? 3,841-62, n? 3.889-62 Aéreas As correçees serão  respon-\", 0.8071887390967534) ratura   padrão para 0 aeroporto. Em 16 de outubro de 1962 2DC-3 SEÇAO DE A TRONAUTAB sabllidade do operador . Para ccndiçoes dlferentes das Dla 17-10-22 aclma enunciadas, deverão ser feltas Tàxl-Aéreo Llder Ltda. requerendo NP 1903 Considerer homslogado correçres nos pesos máxlmos de ope- matricula da  aeronave PT-BSU. DC nzion\", 0.5396747960344666) Vlc;or Facho chare eberto 80 tráfego, aére0, públlco, 0 ração, constantes derte Portarle, do nq 4,826-62. DC 10.547-60 Delcrido 82,\", 0.16527751088142395) 300\", 0.5171107053756714) kB. 192 tráfego, tes']\n"
          ]
        },
        {
          "output_type": "stream",
          "name": "stderr",
          "text": [
            "/usr/local/lib/python3.7/dist-packages/ipykernel_launcher.py:34: DeprecationWarning: use options instead of chrome_options\n"
          ]
        },
        {
          "output_type": "stream",
          "name": "stdout",
          "text": [
            "https://pergamum.anac.gov.br/arquivos/PD1972-0017.PDF\n",
            "rm: cannot remove './*PDF': No such file or directory\n",
            "rm: cannot remove './*jpg': No such file or directory\n"
          ]
        },
        {
          "output_type": "stream",
          "name": "stderr",
          "text": [
            "/usr/local/lib/python3.7/dist-packages/ipykernel_launcher.py:34: DeprecationWarning: use options instead of chrome_options\n"
          ]
        },
        {
          "output_type": "stream",
          "name": "stdout",
          "text": [
            "https://pergamum.anac.gov.br/arquivos/PD1992-0333.PDF\n",
            "['(VII/ ElIO\", 0.4767417965353433) DA {  ; /\", 0.10626833933181397) GABiNETE Do MINIsTRO SECRETARIA Publicado no Diário Oficlal de 213 SET 1992 SERVIÇO PÚBLICO FEDERAL MINISTÉRIO DA AERONÁUTICA ]OU 1 82 DEPARTAMENTO DE AVIAÇAO CIVIL POR TAR IA Ne 333/DGAC , de 21 de setembr0 de 1 992 Fixa índ i ces Para reajuste da5 tar i fa5 cas\", 0.5100339851350045) da infra- estrutura aeronaut ica e dà outras Providênc ias _ D IRETOR-GERAL D0 DEPARTAMENTO DE AVIAçÃo CIVIL, de acordo Com 3 delegação de a\", 0.42314007059698966) d0 MINISTRO Da AERONÁUTICA, outorgada P e ]a Port ar ; a n 9 236/GM-5 , de 26 de Mar € 0 de 1 990 , e , de conformi dade CoM 0 d i sPost 0 No Paragrafo úni co d0 art ig0 29 da Le i n9 6 . 009 , de 26 d € dezembr 0 de 1 973 , Paragrafo 1 9 do art /90 39 , d0 Decret0 n0 89 . 121 , de 06 de dezembr o de 1983 , da Portar i a n9 84/MEFP , de 1 8 de julho de 1 991 , e usando da5 atr ibu 1çães que 1he conferem 05 ig05 4 0 e 4 1 da Portar i a n1 9 638/GM-5 , de 13 de out ubr0 de 1 988 , reso]ve: Ar t 19 Fi xar , na forma aba / XO , 05 índ i ces Para reajuste da 5 tar i fas domest icas: I de Embarque , de Pouso e de Permanência 26 , 08*. II de Uso das Comun i caçães e dos Aux í 1 i 05 à Navegação Aérea eM Rot a 29 , 1 59. Art . 29 Esta Portar i a entrara eM vi gor na dat a da Sua Publ icação, revogadas a 5 d i spos i cães eM conlrár i0 . 2é Ten Br i 9 Ar MAURO Jose MRANDA GANDRA Di re* Or-Gera] Mod. 13t art']\n"
          ]
        }
      ]
    },
    {
      "cell_type": "markdown",
      "metadata": {
        "id": "lpBQoERyVMtl"
      },
      "source": [
        "# Estruturando o Dataframe"
      ]
    },
    {
      "cell_type": "code",
      "metadata": {
        "id": "QxsvFArOVOTy",
        "colab": {
          "base_uri": "https://localhost:8080/"
        },
        "outputId": "952bfd14-8dfc-41d9-fa08-4fd124e0d026"
      },
      "source": [
        "import re \n",
        "\n",
        "# Número da Resolução\n",
        "\n",
        "Num_portaria = []\n",
        "for i in range(0,len(texto_final)):\n",
        "    \n",
        "    try:\n",
        "    \n",
        "        if 'Nª' in str(texto_final[i]):\n",
        "            result = str(texto_final[i]).split('Nª')[1][:5]\n",
        "            Num_portaria.append(result)\n",
        "\n",
        "        elif 'nª' in str(texto_final[i]):\n",
        "            result = str(texto_final[i]).split('nª')[1][:5]\n",
        "            Num_portaria.append(result)\n",
        "\n",
        "        elif 'N?' in str(texto_final[i]):\n",
        "\n",
        "            result = str(texto_final[i]).split('N?')[1][:5]\n",
        "            Num_portaria.append(result)\n",
        "\n",
        "        elif 'N ?' in str(texto_final[i]):\n",
        "\n",
        "            result = str(texto_final[i]).split('N ?')[1][:5]\n",
        "            Num_portaria.append(result)\n",
        "\n",
        "        elif 'NM' in str(texto_final[i]):\n",
        "\n",
        "            result = str(texto_final[i]).split('NM')[1][:5]\n",
        "            Num_portaria.append(result)\n",
        "\n",
        "        elif 'N2' in str(texto_final[i]):\n",
        "\n",
        "            result = str(texto_final[i]).split('N2')[1][:5]\n",
        "            Num_portaria.append(result)\n",
        "\n",
        "        elif 'NC' in str(texto_final[i]):\n",
        "\n",
        "            result = str(texto_final[i]).split('NC')[1][:5]\n",
        "            Num_portaria.append(result)\n",
        "\n",
        "        elif 'PORTARIA No' in str(texto_final[i]):\n",
        "\n",
        "            result = str(texto_final[i]).split('PORTARIA No')[1][:5]\n",
        "            Num_portaria.append(result)\n",
        "\n",
        "\n",
        "        elif 'Portaria H?' in str(texto_final[i]):\n",
        "\n",
        "            result = str(texto_final[i]).split('Portaria H?')[1][:5]\n",
        "            Num_portaria.append(result)\n",
        "\n",
        "        else: \n",
        "            result = re.findall(r'\\d+0', str(texto_final[i]))[0]\n",
        "            Num_portaria.append(result)\n",
        "            \n",
        "    except:\n",
        "        if re.findall(r'\\d+', str(texto_final[i])) == []:\n",
        "          Num_portaria.append(0000)\n",
        "        else:\n",
        "          result = re.findall(r'\\d+', str(texto_final[i]))[0]\n",
        "          Num_portaria.append(result)\n",
        "        \n",
        "Num_port = []\n",
        "for i in range(0,len(Num_portaria)):\n",
        "    try:\n",
        "        result = re.findall(r'\\d+', str(Num_portaria[i]))[0]\n",
        "        Num_port.append(result)\n",
        "        \n",
        "    except:\n",
        "        result = '00'\n",
        "        Num_port.append(result)\n",
        "        \n",
        "# Ano da Resolução\n",
        "\n",
        "Ano_portaria = []\n",
        "for i in range(0,len(texto_final)):\n",
        "    try:\n",
        "        if '\", 0.' in str(texto_final[i])[0:100]:\n",
        "          result = re.findall(r'\\d{4}', str(texto_final[i]).split(')')[1])[0]\n",
        "          Ano_portaria.append(result)\n",
        "\n",
        "        else:\n",
        "          result = re.findall(r'\\d{4}', str(texto_final[i]))[0]\n",
        "          Ano_portaria.append(result)\n",
        "\n",
        "    except:\n",
        "        print(\"Ano não encontrado\")\n",
        "        Ano_portaria.append('2021')\n",
        "    "
      ],
      "execution_count": null,
      "outputs": [
        {
          "output_type": "stream",
          "name": "stdout",
          "text": [
            "Ano não encontrado\n"
          ]
        }
      ]
    },
    {
      "cell_type": "code",
      "metadata": {
        "id": "ixWjDU52VPnF",
        "colab": {
          "base_uri": "https://localhost:8080/",
          "height": 142
        },
        "outputId": "255d9106-0deb-4f13-e402-3931a8e8e960"
      },
      "source": [
        "# Criando o ID \n",
        "\n",
        "tipo = ['701']*len(texto_final) # Tipo de Lei\n",
        "\n",
        "parte1 = [i + j for i, j in zip(tipo, Num_port)] # Juntado os valores\n",
        "ID = [i + j for i, j in zip(parte1, Ano_portaria)] \n",
        "\n",
        "# Criando um DataFrame para alocar os outputs\n",
        "\n",
        "BANCO = pd.DataFrame (ID ,columns=['ID'])\n",
        "BANCO['Texto_lei'] = texto_final\n",
        "BANCO['Data_lei'] = ['']*len(texto_final)\n",
        "BANCO['Data_publicação'] = ['']*len(texto_final)\n",
        "BANCO['Tipo_lei'] = tipo\n",
        "BANCO['Revogada'] = lista_revogada\n",
        "BANCO['Setor'] = ['ANA']*len(texto_final)\n",
        "\n",
        "BANCO"
      ],
      "execution_count": null,
      "outputs": [
        {
          "output_type": "execute_result",
          "data": {
            "text/html": [
              "<div>\n",
              "<style scoped>\n",
              "    .dataframe tbody tr th:only-of-type {\n",
              "        vertical-align: middle;\n",
              "    }\n",
              "\n",
              "    .dataframe tbody tr th {\n",
              "        vertical-align: top;\n",
              "    }\n",
              "\n",
              "    .dataframe thead th {\n",
              "        text-align: right;\n",
              "    }\n",
              "</style>\n",
              "<table border=\"1\" class=\"dataframe\">\n",
              "  <thead>\n",
              "    <tr style=\"text-align: right;\">\n",
              "      <th></th>\n",
              "      <th>ID</th>\n",
              "      <th>Texto_lei</th>\n",
              "      <th>Data_lei</th>\n",
              "      <th>Data_publicação</th>\n",
              "      <th>Tipo_lei</th>\n",
              "      <th>Revogada</th>\n",
              "      <th>Setor</th>\n",
              "    </tr>\n",
              "  </thead>\n",
              "  <tbody>\n",
              "    <tr>\n",
              "      <th>0</th>\n",
              "      <td>7011791962</td>\n",
              "      <td>[[Quarta-feira 7 DIÂRIO  OFICIAL (Seção Parte ...</td>\n",
              "      <td></td>\n",
              "      <td></td>\n",
              "      <td>701</td>\n",
              "      <td>True</td>\n",
              "      <td>ANA</td>\n",
              "    </tr>\n",
              "    <tr>\n",
              "      <th>1</th>\n",
              "      <td>70102021</td>\n",
              "      <td>[]</td>\n",
              "      <td></td>\n",
              "      <td></td>\n",
              "      <td>701</td>\n",
              "      <td>True</td>\n",
              "      <td>ANA</td>\n",
              "    </tr>\n",
              "    <tr>\n",
              "      <th>2</th>\n",
              "      <td>701101062</td>\n",
              "      <td>[[(VII/ ElIO\", 0.4767417965353433) DA {  ; /\",...</td>\n",
              "      <td></td>\n",
              "      <td></td>\n",
              "      <td>701</td>\n",
              "      <td>True</td>\n",
              "      <td>ANA</td>\n",
              "    </tr>\n",
              "  </tbody>\n",
              "</table>\n",
              "</div>"
            ],
            "text/plain": [
              "           ID                                          Texto_lei  ... Revogada Setor\n",
              "0  7011791962  [[Quarta-feira 7 DIÂRIO  OFICIAL (Seção Parte ...  ...     True   ANA\n",
              "1    70102021                                                 []  ...     True   ANA\n",
              "2   701101062  [[(VII/ ElIO\", 0.4767417965353433) DA {  ; /\",...  ...     True   ANA\n",
              "\n",
              "[3 rows x 7 columns]"
            ]
          },
          "metadata": {},
          "execution_count": 33
        }
      ]
    },
    {
      "cell_type": "code",
      "metadata": {
        "id": "CRm8OLNJm3GZ"
      },
      "source": [
        "# Exportando em formato TXT\n",
        "\n",
        "BANCO.to_csv(\"Resolucao_ANAC_parte11.txt\", index=False, encoding='utf-8-sig',sep = '字')"
      ],
      "execution_count": null,
      "outputs": []
    }
  ]
}